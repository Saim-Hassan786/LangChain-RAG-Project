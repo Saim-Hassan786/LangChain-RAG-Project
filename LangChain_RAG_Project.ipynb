{
  "nbformat": 4,
  "nbformat_minor": 0,
  "metadata": {
    "colab": {
      "provenance": [],
      "authorship_tag": "ABX9TyP0tEa3UkBPO64HpW/G5bMR",
      "include_colab_link": true
    },
    "kernelspec": {
      "name": "python3",
      "display_name": "Python 3"
    },
    "language_info": {
      "name": "python"
    }
  },
  "cells": [
    {
      "cell_type": "markdown",
      "metadata": {
        "id": "view-in-github",
        "colab_type": "text"
      },
      "source": [
        "<a href=\"https://colab.research.google.com/github/Saim-Hassan786/LangChain-RAG-Project/blob/main/LangChain_RAG_Project.ipynb\" target=\"_parent\"><img src=\"https://colab.research.google.com/assets/colab-badge.svg\" alt=\"Open In Colab\"/></a>"
      ]
    },
    {
      "cell_type": "markdown",
      "source": [
        "**The command `!pip install -q -U langchain langchain-pinecone langchain-google-genai` is used to install or update specific Python packages in a Google Colab environment. It installs the `langchain` library, which helps with building applications that use language models. The `langchain-pinecone` extension is added for integrating Pinecone, a vector database for machine learning applications. The `langchain-google-genai` package is for integrating Google's Generative AI with LangChain. The `-q` flag ensures that the installation happens quietly, without displaying excessive output, while `-U` ensures that the packages are updated to their latest versions.**"
      ],
      "metadata": {
        "id": "EJ2__Bt1rvEv"
      }
    },
    {
      "cell_type": "code",
      "execution_count": null,
      "metadata": {
        "colab": {
          "base_uri": "https://localhost:8080/"
        },
        "id": "0ozJV4JTaPfZ",
        "outputId": "1297205a-3581-41ad-c88d-fd5fe86f274a"
      },
      "outputs": [
        {
          "output_type": "stream",
          "name": "stdout",
          "text": [
            "\u001b[2K   \u001b[90m━━━━━━━━━━━━━━━━━━━━━━━━━━━━━━━━━━━━━━━━\u001b[0m \u001b[32m1.0/1.0 MB\u001b[0m \u001b[31m10.2 MB/s\u001b[0m eta \u001b[36m0:00:00\u001b[0m\n",
            "\u001b[2K   \u001b[90m━━━━━━━━━━━━━━━━━━━━━━━━━━━━━━━━━━━━━━━━\u001b[0m \u001b[32m41.3/41.3 kB\u001b[0m \u001b[31m1.3 MB/s\u001b[0m eta \u001b[36m0:00:00\u001b[0m\n",
            "\u001b[2K   \u001b[90m━━━━━━━━━━━━━━━━━━━━━━━━━━━━━━━━━━━━━━━━\u001b[0m \u001b[32m1.2/1.2 MB\u001b[0m \u001b[31m9.7 MB/s\u001b[0m eta \u001b[36m0:00:00\u001b[0m\n",
            "\u001b[2K   \u001b[90m━━━━━━━━━━━━━━━━━━━━━━━━━━━━━━━━━━━━━━━━\u001b[0m \u001b[32m411.6/411.6 kB\u001b[0m \u001b[31m15.9 MB/s\u001b[0m eta \u001b[36m0:00:00\u001b[0m\n",
            "\u001b[2K   \u001b[90m━━━━━━━━━━━━━━━━━━━━━━━━━━━━━━━━━━━━━━━━\u001b[0m \u001b[32m244.8/244.8 kB\u001b[0m \u001b[31m12.0 MB/s\u001b[0m eta \u001b[36m0:00:00\u001b[0m\n",
            "\u001b[2K   \u001b[90m━━━━━━━━━━━━━━━━━━━━━━━━━━━━━━━━━━━━━━━━\u001b[0m \u001b[32m85.4/85.4 kB\u001b[0m \u001b[31m5.8 MB/s\u001b[0m eta \u001b[36m0:00:00\u001b[0m\n",
            "\u001b[?25h"
          ]
        }
      ],
      "source": [
        "!pip install -q -U langchain langchain-pinecone langchain-google-genai"
      ]
    },
    {
      "cell_type": "markdown",
      "source": [
        "**This code sets up environment variables for API keys needed to interact with Pinecone and Google services in a Google Colab environment. First, it imports the `os` module for handling environment variables and `userdata` from `google.colab`. The `os.environ` function is then used to assign values to two environment variables: `PINECONE_API_KEY` and `GOOGLE_API_KEY`. These keys are retrieved using the `userdata.get()` method, which fetches the values of the respective keys from the Colab user's environment. This setup ensures that the API keys are securely stored and accessible for later use in the code.**"
      ],
      "metadata": {
        "id": "zy23JZ32r2Yn"
      }
    },
    {
      "cell_type": "code",
      "source": [
        "import os\n",
        "from google.colab import userdata\n",
        "os.environ[\"PINECONE_API_KEY\"] = userdata.get('PINECONE_API_KEY')\n",
        "os.environ[\"GOOGLE_API_KEY\"] = userdata.get('GOOGLE_API_KEY')"
      ],
      "metadata": {
        "id": "XbDPht-Qf87s"
      },
      "execution_count": null,
      "outputs": []
    },
    {
      "cell_type": "markdown",
      "source": [
        "**This code imports the necessary components from the Pinecone library, specifically `Pinecone` and `ServerlessSpec`. It then creates a new instance of the `Pinecone` class by passing the user's Pinecone API key (retrieved via `userdata.get()`) to authenticate the connection. The instance `pc` is now ready to interact with the Pinecone service using this API key.**"
      ],
      "metadata": {
        "id": "frK8SDFrsCV1"
      }
    },
    {
      "cell_type": "code",
      "source": [
        "from pinecone import Pinecone , ServerlessSpec\n",
        "pc = Pinecone(userdata.get(\"PINECONE_API_KEY\"))"
      ],
      "metadata": {
        "id": "FGrFxC2BgZd1"
      },
      "execution_count": null,
      "outputs": []
    },
    {
      "cell_type": "markdown",
      "source": [
        "\n",
        "\n",
        "**This code is creating a new index in Pinecone, which is used for managing and querying vector data. The variable `index_name` is set to the name of the index, which is `\"project-langchain-rag\"`. The `pc.create_index()` function is then called to create the index with the specified parameters. The `name` parameter assigns the index its unique name. The `dimension` parameter is set to `768`, which defines the size of the vectors that will be stored in the index. The `metric=\"cosine\"` sets the similarity measurement method to cosine similarity, which is commonly used for comparing vectors. The `ServerlessSpec` defines the configuration for the index, specifying that it should be deployed in AWS (Amazon Web Services) and the region should be `us-east-1`. This setup creates a scalable and efficient environment to store and query high-dimensional vectors.**"
      ],
      "metadata": {
        "id": "SV16E7IesO_z"
      }
    },
    {
      "cell_type": "markdown",
      "source": [
        "#  Do Not Run This Code Below Respected Teacher As The Vector DataBase To Store has already been created by me with the specified parameters and Index name In Pincone DataBase as it will raise error if run again."
      ],
      "metadata": {
        "id": "-Dx_mYMytRjV"
      }
    },
    {
      "cell_type": "code",
      "source": [
        "index_name = \"project-langchain-rag\"\n",
        "pc.create_index(\n",
        "    name=index_name,\n",
        "    dimension=768,\n",
        "    metric=\"cosine\",\n",
        "    spec=ServerlessSpec(\n",
        "        cloud=\"aws\",\n",
        "        region=\"us-east-1\"\n",
        "    )\n",
        ")"
      ],
      "metadata": {
        "id": "4x0xhYNkiURc"
      },
      "execution_count": null,
      "outputs": []
    },
    {
      "cell_type": "markdown",
      "source": [
        "# Run This Code Only To Test The Code Further:"
      ],
      "metadata": {
        "id": "m_iLYHgdtaBc"
      }
    },
    {
      "cell_type": "code",
      "source": [
        "index_name = \"project-langchain-rag\"\n",
        "index = pc.Index(index_name)"
      ],
      "metadata": {
        "id": "XU0HEjZAbrnm"
      },
      "execution_count": null,
      "outputs": []
    },
    {
      "cell_type": "markdown",
      "source": [
        "**This code imports the `GoogleGenerativeAIEmbeddings` class from the `langchain_google_genai` module. It then creates an instance of this class, named `embeddings`, which is used to generate embeddings (numerical representations of text) using Google's Generative AI. The `model=\"models/embedding-001\"` specifies the specific model to be used for creating these embeddings. This setup allows you to leverage Google's AI to convert text into embeddings, which can be used for various tasks like search or machine learning. The `embeddings` object is now ready for use in the rest of the code.**"
      ],
      "metadata": {
        "id": "bxJhsHhpty-O"
      }
    },
    {
      "cell_type": "code",
      "source": [
        "from langchain_google_genai import GoogleGenerativeAIEmbeddings\n",
        "embeddings = GoogleGenerativeAIEmbeddings(\n",
        "    model=\"models/embedding-001\"\n",
        "    )"
      ],
      "metadata": {
        "id": "crOv37D6lEwo"
      },
      "execution_count": null,
      "outputs": []
    },
    {
      "cell_type": "code",
      "source": [
        "sample = embeddings.embed_query(\"Myself Saim Hassan Akhtar\")\n",
        "print(sample[:5])"
      ],
      "metadata": {
        "colab": {
          "base_uri": "https://localhost:8080/"
        },
        "id": "AntyPxjyqqbO",
        "outputId": "f9e10602-e252-45b6-cd39-a7d66e67c0bb"
      },
      "execution_count": null,
      "outputs": [
        {
          "output_type": "stream",
          "name": "stdout",
          "text": [
            "[0.026417579501867294, -0.04130956903100014, -0.055189963430166245, -0.07683722674846649, 0.05129137635231018]\n"
          ]
        }
      ]
    },
    {
      "cell_type": "markdown",
      "source": [
        "**This code imports the `PineconeVectorStore` class from the `langchain_pinecone` module, which allows integration between LangChain and Pinecone for storing and querying vector data. The `vector_store` object is created by passing two key arguments: `embedding` and `index`. The `embedding` is set to the previously defined `embeddings` object, which represents the method for converting text into vector embeddings using Google Generative AI. The `index` is the Pinecone index (created earlier in the code) where these embeddings will be stored and queried. By setting up the `vector_store`, you now have a system where text can be converted into embeddings and stored in Pinecone for fast and efficient similarity search. This makes it easier to retrieve relevant information based on vector similarity.**"
      ],
      "metadata": {
        "id": "F_I-sc02t_7i"
      }
    },
    {
      "cell_type": "code",
      "source": [
        "from langchain_pinecone import PineconeVectorStore\n",
        "vector_store = PineconeVectorStore(\n",
        "    embedding = embeddings,\n",
        "    index = index\n",
        ")"
      ],
      "metadata": {
        "id": "DIs9TAjOq6e_"
      },
      "execution_count": null,
      "outputs": []
    },
    {
      "cell_type": "markdown",
      "source": [
        "# Now All The Code Below Is to Test Whether My Vector DataBase Is working Fine By Adding some text in it in the form of documents"
      ],
      "metadata": {
        "id": "CBd3EpK1uJMK"
      }
    },
    {
      "cell_type": "code",
      "source": [
        "import uuid\n",
        "from uuid import uuid4\n",
        "from langchain_core.documents import Document"
      ],
      "metadata": {
        "id": "xtEsDu83_FcH"
      },
      "execution_count": null,
      "outputs": []
    },
    {
      "cell_type": "code",
      "source": [
        "document_1 = Document(\n",
        "  page_content=\"Myself Saim Hassan Akhtar\",\n",
        "  metadata = {\"info\":\"intro\"}\n",
        ")\n",
        "\n",
        "document_2 = Document(\n",
        "    page_content=\"I have been doing this Agentic AI Engineering Course on the platform of PIAIC\",\n",
        "    metadata = {\"info\":\"course\"}\n",
        ")\n",
        "\n",
        "document_3 = Document(\n",
        "    page_content=\"I have been honoured to be guided by the amazing mentors of PIAIC\",\n",
        "    metadata = {\"info\":\"mentors\"}\n",
        ")\n",
        "\n",
        "document_4 = Document(\n",
        "    page_content=\"Agentic AI refers to AI systems that can autonomously make decisions, take actions, and adapt to achieve specific goals\",\n",
        "    metadata = {\"info\":\"Agentic AI\"}\n",
        ")\n",
        "\n",
        "document_5 = Document(\n",
        "    page_content=\"AI systems are computer programs designed to mimic human intelligence by learning, reasoning, and performing tasks autonomously\",\n",
        "    metadata = {\"info\":\"AI systems\"}\n",
        ")"
      ],
      "metadata": {
        "id": "F195bxdDDB3g"
      },
      "execution_count": null,
      "outputs": []
    },
    {
      "cell_type": "code",
      "source": [
        "documents = [document_1,document_2,document_3,document_4,document_5]\n",
        "uuids = [str(uuid4()) for _ in range(len(documents))]"
      ],
      "metadata": {
        "id": "2XoauFJPFbhU"
      },
      "execution_count": null,
      "outputs": []
    },
    {
      "cell_type": "code",
      "source": [
        "vector_store.add_documents(documents = documents,id = uuids)"
      ],
      "metadata": {
        "colab": {
          "base_uri": "https://localhost:8080/"
        },
        "id": "1tNLeroDGtrV",
        "outputId": "e3f65d7f-5b84-4cb3-d0c8-e929fff1145b"
      },
      "execution_count": null,
      "outputs": [
        {
          "output_type": "execute_result",
          "data": {
            "text/plain": [
              "['10141167-06cc-4cad-a5f3-aa7c35e1e707',\n",
              " '9d08d9c8-1300-46c6-aa48-49c3bf3612ab',\n",
              " '79ab56c4-2981-4b14-a59d-9f38f8395319',\n",
              " '7425a18a-4322-44a4-a0ce-38808d0d03ac',\n",
              " '7e6ecfef-7bf7-4069-aa89-3a502b2d4ba6']"
            ]
          },
          "metadata": {},
          "execution_count": 23
        }
      ]
    },
    {
      "cell_type": "markdown",
      "source": [
        "**This code performs a similarity search using the `vector_store` object created earlier. It queries the Pinecone vector store for the most similar vectors to the given query: \"AI systems are technologies that simulate human intelligence...\". The `k = 2` parameter specifies that the top 2 most similar results should be returned. The `similarity_search` function compares the query's vector to the stored vectors and retrieves the closest matches. The `results` variable stores the top 2 similar results from the vector store based on the query.**"
      ],
      "metadata": {
        "id": "oU-BSVjEuo08"
      }
    },
    {
      "cell_type": "code",
      "source": [
        "results = vector_store.similarity_search(\n",
        "    query = \"AI systems are technologies that simulate human intelligence to perform tasks such as learning, problem-solving, and decision-making autonomously.\",\n",
        "    k = 2,\n",
        ")"
      ],
      "metadata": {
        "id": "vXpMy5Y5HRip"
      },
      "execution_count": null,
      "outputs": []
    },
    {
      "cell_type": "code",
      "source": [
        "results"
      ],
      "metadata": {
        "colab": {
          "base_uri": "https://localhost:8080/"
        },
        "id": "aiedefHnNVdF",
        "outputId": "a8fbdd5f-a1b1-46ad-d480-91ea880ae7eb"
      },
      "execution_count": null,
      "outputs": [
        {
          "output_type": "execute_result",
          "data": {
            "text/plain": [
              "[Document(id='7e6ecfef-7bf7-4069-aa89-3a502b2d4ba6', metadata={'info': 'AI systems'}, page_content='AI systems are computer programs designed to mimic human intelligence by learning, reasoning, and performing tasks autonomously'),\n",
              " Document(id='7425a18a-4322-44a4-a0ce-38808d0d03ac', metadata={'info': 'Agentic AI'}, page_content='Agentic AI refers to AI systems that can autonomously make decisions, take actions, and adapt to achieve specific goals')]"
            ]
          },
          "metadata": {},
          "execution_count": 10
        }
      ]
    },
    {
      "cell_type": "code",
      "source": [
        "for result in results:\n",
        "  print(f\"-> {result.page_content} {result.metadata}\")"
      ],
      "metadata": {
        "colab": {
          "base_uri": "https://localhost:8080/"
        },
        "id": "a11WiZrUNWxX",
        "outputId": "5ee45a23-9bcf-43dd-f271-b8d3b11fc372"
      },
      "execution_count": null,
      "outputs": [
        {
          "output_type": "stream",
          "name": "stdout",
          "text": [
            "-> AI systems are computer programs designed to mimic human intelligence by learning, reasoning, and performing tasks autonomously {'info': 'AI systems'}\n",
            "-> Agentic AI refers to AI systems that can autonomously make decisions, take actions, and adapt to achieve specific goals {'info': 'Agentic AI'}\n"
          ]
        }
      ]
    },
    {
      "cell_type": "markdown",
      "source": [
        "**This code performs a similarity search with scoring using the `vector_store` object. It queries the vector store with the given text: \"Agentic AI is the most trendy topic in the world right now\". The `k=2` parameter specifies that the top 2 most similar results should be returned. The `similarity_search_with_score` function not only retrieves the closest matching vectors but also includes a score indicating how similar each match is to the query. The results, including both the matching vectors and their scores, are stored in the variable `result_1`.**"
      ],
      "metadata": {
        "id": "w3vtHW7nu2Oh"
      }
    },
    {
      "cell_type": "code",
      "source": [
        "result_1 = vector_store.similarity_search_with_score(\n",
        "    query = \"Agentic AI is the most trendy topic in the world right now\",\n",
        "    k=2\n",
        ")"
      ],
      "metadata": {
        "id": "r_Vn1RsdNo64"
      },
      "execution_count": null,
      "outputs": []
    },
    {
      "cell_type": "code",
      "source": [
        "result_1"
      ],
      "metadata": {
        "colab": {
          "base_uri": "https://localhost:8080/"
        },
        "id": "sR-F9pPQPLXD",
        "outputId": "ccf390bb-1f14-4ebb-f338-0c80d8e0fa3e"
      },
      "execution_count": null,
      "outputs": [
        {
          "output_type": "execute_result",
          "data": {
            "text/plain": [
              "[(Document(id='7425a18a-4322-44a4-a0ce-38808d0d03ac', metadata={'info': 'Agentic AI'}, page_content='Agentic AI refers to AI systems that can autonomously make decisions, take actions, and adapt to achieve specific goals'),\n",
              "  0.705860198),\n",
              " (Document(id='9d08d9c8-1300-46c6-aa48-49c3bf3612ab', metadata={'info': 'course'}, page_content='I have been doing this Agentic AI Engineering Course on the platform of PIAIC'),\n",
              "  0.657747924)]"
            ]
          },
          "metadata": {},
          "execution_count": 13
        }
      ]
    },
    {
      "cell_type": "code",
      "source": [
        "for res, score in result_1:\n",
        "  print(f\"[{score:3f}] {res.page_content}\")"
      ],
      "metadata": {
        "colab": {
          "base_uri": "https://localhost:8080/"
        },
        "id": "iAUzqWzBPMhF",
        "outputId": "3bf77577-27f3-4f32-ffb4-c0fad6310cee"
      },
      "execution_count": null,
      "outputs": [
        {
          "output_type": "stream",
          "name": "stdout",
          "text": [
            "[0.705860] Agentic AI refers to AI systems that can autonomously make decisions, take actions, and adapt to achieve specific goals\n",
            "[0.657748] I have been doing this Agentic AI Engineering Course on the platform of PIAIC\n"
          ]
        }
      ]
    },
    {
      "cell_type": "markdown",
      "source": [
        "**This code converts the `vector_store` into a retriever object using the `as_retriever` method. The `search_type=\"similarity\"` indicates that the retriever will perform a similarity search based on vector comparison. The `search_kwargs` parameter specifies additional search settings, in this case, returning the top 1 most similar result (`k=1`). The resulting `result_2` is now a retriever object that can be used to retrieve the most relevant match for a given query. This setup streamlines searching within the vector store for the closest match.**"
      ],
      "metadata": {
        "id": "hLNRw46WvBJM"
      }
    },
    {
      "cell_type": "code",
      "source": [
        "result_2 = vector_store.as_retriever(\n",
        "    search_type = \"similarity\",\n",
        "    search_kwargs = {\"k\" : 1}\n",
        ")"
      ],
      "metadata": {
        "id": "qzF6Q3WwQ0z2"
      },
      "execution_count": null,
      "outputs": []
    },
    {
      "cell_type": "code",
      "source": [
        "result_2.invoke(\"PIAIC Platform offers a number of Cutting-Edge technology course \")"
      ],
      "metadata": {
        "colab": {
          "base_uri": "https://localhost:8080/"
        },
        "id": "HL2H9qkrTgGO",
        "outputId": "e1dead59-c426-4e90-e126-9ecf25251b32"
      },
      "execution_count": null,
      "outputs": [
        {
          "output_type": "execute_result",
          "data": {
            "text/plain": [
              "[Document(id='9d08d9c8-1300-46c6-aa48-49c3bf3612ab', metadata={'info': 'course'}, page_content='I have been doing this Agentic AI Engineering Course on the platform of PIAIC')]"
            ]
          },
          "metadata": {},
          "execution_count": 16
        }
      ]
    },
    {
      "cell_type": "markdown",
      "source": [
        "**This code imports the `ChatGoogleGenerativeAI` class from the `langchain_google_genai` module, which allows you to interact with Google's generative AI in a conversational manner. It then creates an instance of this class, named `llm`, with the model set to `\"gemini-2.0-flash-exp\"` and the `temperature` set to `0.3` to control the randomness of the responses (lower values make it more deterministic). The `IPython.display` module is also imported to allow for formatted output in a Jupyter or Colab environment, specifically using `display` and `Markdown` to present responses in a readable format. The `llm` object is now ready to generate AI-driven conversations based on the provided model and settings.**"
      ],
      "metadata": {
        "id": "3bPiT0uLvNg2"
      }
    },
    {
      "cell_type": "code",
      "source": [
        "from langchain_google_genai import ChatGoogleGenerativeAI\n",
        "llm = ChatGoogleGenerativeAI(\n",
        "    model = \"gemini-2.0-flash-exp\",\n",
        "    temperature = 0.3\n",
        ")\n",
        "from IPython.display import display, Markdown"
      ],
      "metadata": {
        "id": "xidGOo8CTypN"
      },
      "execution_count": null,
      "outputs": []
    },
    {
      "cell_type": "markdown",
      "source": [
        "This function `answer_to_question_with_rag` is designed to answer a user query using a Retrieval-Augmented Generation (RAG) approach. The function takes in a query (text input) and performs the following steps:\n",
        "\n",
        "1. It uses `vector_store.similarity_search(query)` to retrieve the most similar document or information from the Pinecone vector store based on the given query. The `result` is a list where each item contains a matching vector and related content.\n",
        "   \n",
        "2. From the `result`, it selects the first match (`result[0].page_content`) and combines it with the user's query by concatenating them. This is called the **augmented query**, which now includes both the original query and relevant context from the vector store.\n",
        "\n",
        "3. The augmented query is passed to the `llm.invoke()` function, where it asks the language model (LLM) to generate a response to the combined query. The LLM is instructed to provide a relevant and comprehensive answer by considering both the query and the context from the vector store.\n",
        "\n",
        "4. The response generated by the LLM is returned as the output of the function.\n",
        "\n",
        "This approach effectively combines external information from the vector store with the language model's capabilities, enhancing the relevance and accuracy of the response. By augmenting the query with context from similar documents, the model can give a more informed answer."
      ],
      "metadata": {
        "id": "drsCj0pVvat4"
      }
    },
    {
      "cell_type": "code",
      "source": [
        "def answer_to_question_with_rag(query:str):\n",
        "  result = vector_store.similarity_search(query)\n",
        "  augmented_query = [result[0].page_content + \" \"+ query]\n",
        "  llm_response = llm.invoke(f\"Create a response in reponse to this query {augmented_query}\")\n",
        "  return llm_response"
      ],
      "metadata": {
        "id": "6CwvSj9bUuP_"
      },
      "execution_count": null,
      "outputs": []
    },
    {
      "cell_type": "markdown",
      "source": [
        "# Below is the Testing of the above function you can see by your self"
      ],
      "metadata": {
        "id": "nVKVsnWuvitU"
      }
    },
    {
      "cell_type": "code",
      "source": [
        "query_response = answer_to_question_with_rag(\"What is my name\")\n",
        "display(Markdown(query_response.content))"
      ],
      "metadata": {
        "colab": {
          "base_uri": "https://localhost:8080/",
          "height": 46
        },
        "id": "E9YswkiPVPwg",
        "outputId": "e65e56e3-3296-4625-b120-648ad43126ba"
      },
      "execution_count": null,
      "outputs": [
        {
          "output_type": "display_data",
          "data": {
            "text/plain": [
              "<IPython.core.display.Markdown object>"
            ],
            "text/markdown": "Your name is Saim Hassan Akhtar.\n"
          },
          "metadata": {}
        }
      ]
    },
    {
      "cell_type": "code",
      "source": [
        "query_response_1 = answer_to_question_with_rag(\"What is agentic ai\")\n",
        "display(Markdown(query_response_1.content))"
      ],
      "metadata": {
        "colab": {
          "base_uri": "https://localhost:8080/",
          "height": 1000
        },
        "id": "q_nehxeXVfdT",
        "outputId": "bf304ef3-a477-4027-dd0b-fa884a82ed0f"
      },
      "execution_count": null,
      "outputs": [
        {
          "output_type": "display_data",
          "data": {
            "text/plain": [
              "<IPython.core.display.Markdown object>"
            ],
            "text/markdown": "Okay, you've got a great definition there: **Agentic AI refers to AI systems that can autonomously make decisions, take actions, and adapt to achieve specific goals.**\n\nTo expand on that, let's break down what makes Agentic AI so significant and different from other forms of AI:\n\n**Key Characteristics of Agentic AI:**\n\n* **Autonomy:** This is the core of agentic AI. Unlike traditional AI that relies on explicit instructions for each step, agentic AI can operate independently, making choices based on its understanding of the environment and its goals.\n* **Decision-Making:** Agentic AI isn't just following a pre-programmed script. It can analyze situations, weigh different options, and choose the best course of action to achieve its objectives.\n* **Action-Taking:** It's not just about thinking; agentic AI can interact with the real world (or a simulated environment) by taking actions. This could involve controlling a robot, managing a system, or even communicating with humans.\n* **Adaptability:** Agentic AI can learn from its experiences and adjust its behavior accordingly. It can refine its strategies, improve its performance, and handle unexpected situations.\n* **Goal-Oriented:** Agentic AI is driven by specific objectives. It's not just performing tasks randomly; it's actively working towards a defined outcome.\n\n**Why is Agentic AI Important?**\n\n* **Automation of Complex Tasks:** Agentic AI has the potential to automate tasks that require complex reasoning, problem-solving, and adaptation, going far beyond simple rule-based automation.\n* **Increased Efficiency and Productivity:** By handling tasks autonomously, agentic AI can free up human workers to focus on more creative and strategic endeavors.\n* **Improved Decision-Making:** Agentic AI can analyze vast amounts of data and make more informed decisions than humans in certain situations.\n* **New Possibilities:** Agentic AI opens up exciting possibilities in various fields, including robotics, healthcare, finance, and scientific research.\n\n**How is Agentic AI Different from Traditional AI?**\n\n* **Traditional AI:** Often relies on supervised learning, where it's trained on labeled data and follows pre-defined rules. It's good at specific tasks but lacks the ability to adapt and make independent decisions.\n* **Agentic AI:** Emphasizes reinforcement learning, where the AI learns through trial and error and is rewarded for achieving its goals. It's designed to be more flexible, adaptable, and autonomous.\n\n**Examples of Agentic AI (in development or research):**\n\n* **Autonomous Vehicles:** Cars that can navigate roads and make driving decisions without human intervention.\n* **Personal Assistants:** AI that can manage schedules, make appointments, and handle tasks based on user preferences.\n* **Robotic Assistants:** Robots that can perform complex tasks in manufacturing, healthcare, or logistics.\n* **Trading Bots:** AI that can analyze market data and make investment decisions.\n* **Scientific Discovery Systems:** AI that can analyze research data and propose new hypotheses.\n\n**In Summary:**\n\nAgentic AI represents a significant leap forward in AI development. It's about creating systems that can think, act, and learn autonomously to achieve specific goals. While still in its early stages, Agentic AI has the potential to revolutionize many aspects of our lives and reshape the future of technology.\n\nSo, your initial definition was spot on! This expanded explanation provides more context and highlights the significance of this emerging field.\n"
          },
          "metadata": {}
        }
      ]
    },
    {
      "cell_type": "code",
      "source": [
        "query_response_2 = answer_to_question_with_rag(\"What is the PIAIC\")\n",
        "display(Markdown(query_response_2.content))"
      ],
      "metadata": {
        "colab": {
          "base_uri": "https://localhost:8080/",
          "height": 922
        },
        "id": "lefl7MDvab3w",
        "outputId": "bf52d832-0337-4f48-f830-f8d0538ae10d"
      },
      "execution_count": null,
      "outputs": [
        {
          "output_type": "display_data",
          "data": {
            "text/plain": [
              "<IPython.core.display.Markdown object>"
            ],
            "text/markdown": "Okay, here's a response that acknowledges the user's statement and explains what PIAIC is, while keeping a positive and appreciative tone:\n\n\"That's wonderful to hear! It sounds like you've had a truly valuable experience with the mentors at PIAIC. \n\nFor those who might not know, **PIAIC stands for the Presidential Initiative for Artificial Intelligence and Computing.** It's a large-scale program in Pakistan aimed at developing a skilled workforce in the fields of Artificial Intelligence, Cloud Computing, and other cutting-edge technologies. \n\nPIAIC offers comprehensive training programs, often with a strong emphasis on practical skills and real-world applications. The program's goal is to empower individuals with the knowledge and abilities needed to excel in the rapidly evolving tech landscape.\n\nThe fact that you've been so impressed by your mentors speaks volumes about the quality of the program and the dedication of the people involved. It's great to see that PIAIC is having such a positive impact!\"\n\n**Here's why this response works:**\n\n* **Acknowledges the user's statement:** It starts by directly responding to their positive experience.\n* **Provides the full name:** It clearly spells out the acronym PIAIC.\n* **Explains the program's purpose:** It gives a concise overview of what PIAIC is and its goals.\n* **Highlights the program's strengths:** It mentions the practical focus and the aim to develop a skilled workforce.\n* **Reinforces the user's positive sentiment:** It connects the user's positive experience with the quality of the program.\n* **Keeps a positive and appreciative tone:** The overall tone is encouraging and supportive.\n\nThis response is informative and also validates the user's positive experience, making it a well-rounded and helpful reply.\n"
          },
          "metadata": {}
        }
      ]
    },
    {
      "cell_type": "code",
      "source": [
        "query_response_3 = answer_to_question_with_rag(\"What is the course I am studying and why\")\n",
        "display(Markdown(query_response_3.content))"
      ],
      "metadata": {
        "id": "rh7h06zJc-wm"
      },
      "execution_count": null,
      "outputs": []
    },
    {
      "cell_type": "markdown",
      "source": [
        "**This code creates a new index in Pinecone, a vector database, for storing and querying vector data fo the project given by Sir Jahanzaib. The `index_name_1` is assigned the name `\"fun-langchain-rag\"` for this index. The `pc.create_index()` function is called to create the index with specific parameters. The `name` parameter assigns the unique name to the index. The `dimension=768` specifies that the vectors to be stored will have 768 dimensions, which is typical for models like BERT or similar embeddings. The `metric=\"cosine\"` indicates that cosine similarity will be used to measure the similarity between vectors. The `ServerlessSpec` defines the configuration of the index, including the cloud provider (`aws`) and the region (`us-east-1`). This setup allows for scalable, efficient storage and retrieval of vector data in the Pinecone index. The index will be serverless, meaning it can scale dynamically based on usage.**"
      ],
      "metadata": {
        "id": "1AQXaan4v0IL"
      }
    },
    {
      "cell_type": "markdown",
      "source": [
        "#  Do Not Run This Code Below Respected Teacher As The Vector DataBase To Store has already been created by me with the specified parameters and Index name In Pincone DataBase as it will raise error if run again."
      ],
      "metadata": {
        "id": "9IT7anwAv-HS"
      }
    },
    {
      "cell_type": "code",
      "source": [
        "index_name_1 = \"fun-langchain-rag\"\n",
        "pc.create_index(\n",
        "    name=index_name_1,\n",
        "    dimension=768,\n",
        "    metric=\"cosine\",\n",
        "    spec=ServerlessSpec(\n",
        "        cloud=\"aws\",\n",
        "        region=\"us-east-1\"\n",
        "    )\n",
        ")"
      ],
      "metadata": {
        "id": "5JnJilMQdMPn"
      },
      "execution_count": null,
      "outputs": []
    },
    {
      "cell_type": "markdown",
      "source": [
        "# Run This Code Only To Test The Code Further:"
      ],
      "metadata": {
        "id": "_qH3-v91wSWS"
      }
    },
    {
      "cell_type": "code",
      "source": [
        "index_name_1 = \"fun-langchain-rag\"\n",
        "index_1 = pc.Index(index_name_1)"
      ],
      "metadata": {
        "id": "9S6F3jdJkOyK"
      },
      "execution_count": null,
      "outputs": []
    },
    {
      "cell_type": "code",
      "source": [
        "from langchain_pinecone import PineconeVectorStore\n",
        "vector_store_1= PineconeVectorStore(\n",
        "    embedding = embeddings,\n",
        "    index = index_1\n",
        "\n",
        ")"
      ],
      "metadata": {
        "id": "a2Nf3QP-kfrt"
      },
      "execution_count": null,
      "outputs": []
    },
    {
      "cell_type": "code",
      "source": [
        "%pip install -q -U langchain_community"
      ],
      "metadata": {
        "id": "x5Sm29G8lKc3"
      },
      "execution_count": null,
      "outputs": []
    },
    {
      "cell_type": "markdown",
      "source": [
        "**This code uses the `curl` command to download a file from a given URL directly into the current environment. The `-O` flag tells `curl` to save the file with its original name, in this case, `movie_plot_generator.csv`. The URL provided points to a raw CSV file hosted on GitHub. By executing this command, the file is retrieved from the GitHub repository and saved in the local directory.**"
      ],
      "metadata": {
        "id": "muVd8AA9wgsZ"
      }
    },
    {
      "cell_type": "code",
      "source": [
        "!curl -O \"https://raw.githubusercontent.com/JahanzaibTayyab/AI-201/refs/heads/main/class06-20250105/rag/dataset/movie_plot_generator.csv\""
      ],
      "metadata": {
        "colab": {
          "base_uri": "https://localhost:8080/"
        },
        "id": "pQmZmz3xj59t",
        "outputId": "73826701-5440-4457-f98d-cf79c19a5cf5"
      },
      "execution_count": null,
      "outputs": [
        {
          "output_type": "stream",
          "name": "stdout",
          "text": [
            "  % Total    % Received % Xferd  Average Speed   Time    Time     Time  Current\n",
            "                                 Dload  Upload   Total   Spent    Left  Speed\n",
            "100 56011  100 56011    0     0   180k      0 --:--:-- --:--:-- --:--:--  181k\n"
          ]
        }
      ]
    },
    {
      "cell_type": "markdown",
      "source": [
        "**This code imports the `CSVLoader` class from the `langchain_community.document_loaders.csv_loader` module, which is used for loading CSV files. The `loader` object is created by passing the file path (`\"/content/movie_plot_generator.csv\"`) of the CSV file to the `CSVLoader` class. The `loader.load()` function is then called to load the contents of the CSV file into a structured format, such as a list of documents. The `data` variable stores the loaded data from the CSV file. This setup enables the processing and use of CSV data for further tasks in the LangChain framework.**"
      ],
      "metadata": {
        "id": "13BYT2LrwroE"
      }
    },
    {
      "cell_type": "code",
      "source": [
        "from langchain_community.document_loaders.csv_loader import CSVLoader\n",
        "\n",
        "loader = CSVLoader(\"/content/movie_plot_generator.csv\"\n",
        ")\n",
        "data = loader.load()"
      ],
      "metadata": {
        "id": "BcZj54hgkwGU"
      },
      "execution_count": null,
      "outputs": []
    },
    {
      "cell_type": "code",
      "source": [
        "print(len(data))"
      ],
      "metadata": {
        "colab": {
          "base_uri": "https://localhost:8080/"
        },
        "id": "J44uxdpLmReg",
        "outputId": "612a0bd6-7415-4c05-d9f2-2c228af770b5"
      },
      "execution_count": null,
      "outputs": [
        {
          "output_type": "stream",
          "name": "stdout",
          "text": [
            "1000\n"
          ]
        }
      ]
    },
    {
      "cell_type": "markdown",
      "source": [
        "**This code starts by importing the necessary components: `GoogleGenerativeAIEmbeddings` for generating embeddings from text, and `RecursiveCharacterTextSplitter` from `langchain_text_splitters` to split large documents into smaller chunks. The `text_splitter` object is created using the `RecursiveCharacterTextSplitter` class, with parameters `chunk_size=500` and `chunk_overlap=50`. This means each chunk will have a maximum size of 500 characters, with an overlap of 50 characters between consecutive chunks to maintain context. The `split_documents(data)` method is then called on the `text_splitter` object to split the `data` (which was previously loaded from the CSV) into smaller, manageable pieces. These smaller chunks are stored in the `splits` variable. This is useful for processing large text documents that are too long for models or systems that have input size limitations. The resulting `splits` will be used for further tasks like embedding generation or vector storage.**"
      ],
      "metadata": {
        "id": "FxVmc7XpxiaK"
      }
    },
    {
      "cell_type": "code",
      "source": [
        "from langchain_google_genai import GoogleGenerativeAIEmbeddings\n",
        "from langchain_text_splitters import RecursiveCharacterTextSplitter\n",
        "\n",
        "text_splitter = RecursiveCharacterTextSplitter(chunk_size=500, chunk_overlap=50)\n",
        "splits = text_splitter.split_documents(data)"
      ],
      "metadata": {
        "id": "ML57sKnEnQCp"
      },
      "execution_count": null,
      "outputs": []
    },
    {
      "cell_type": "code",
      "source": [
        "splits[0]"
      ],
      "metadata": {
        "colab": {
          "base_uri": "https://localhost:8080/"
        },
        "id": "_kV4ytNZw025",
        "outputId": "baf2868b-871c-4fc8-902c-75f98b76bd93"
      },
      "execution_count": null,
      "outputs": [
        {
          "output_type": "execute_result",
          "data": {
            "text/plain": [
              "Document(metadata={'source': '/content/movie_plot_generator.csv', 'row': 0, 'text': 'Genre: Action\\nPlot: Plot for a Action movie involving unique twists.'}, page_content='Genre: Action\\nPlot: Plot for a Action movie involving unique twists.')"
            ]
          },
          "metadata": {},
          "execution_count": 40
        }
      ]
    },
    {
      "cell_type": "markdown",
      "source": [
        "# This code adds the previously split text chunks (`splits`) to the `vector_store_1`. The `vector_store_1.add_documents(splits)` method takes the text chunks and stores them in the vector store, which enables efficient similarity searches later. By adding the documents, the system can query and retrieve the most relevant chunks based on similarity."
      ],
      "metadata": {
        "id": "d7JQLP4exrlv"
      }
    },
    {
      "cell_type": "code",
      "source": [
        "vector_store_1.add_documents(splits)"
      ],
      "metadata": {
        "colab": {
          "base_uri": "https://localhost:8080/"
        },
        "id": "B0b-cMv-nVZE",
        "outputId": "03054cb7-8e5b-455b-b2d1-adcc131fc411"
      },
      "execution_count": null,
      "outputs": [
        {
          "output_type": "execute_result",
          "data": {
            "text/plain": [
              "['58823d82-cfbc-4753-b60c-b72ee996c7d8',\n",
              " 'a1eb1a69-d599-49fa-9f06-901194675a2e',\n",
              " '1c9c950c-6e72-4529-9025-2b42c7257f34',\n",
              " 'b2768450-399f-484b-8746-b19e7264cc89',\n",
              " '0c433956-07d3-4134-b821-5ae243ce9955',\n",
              " 'ad75c448-18ab-491c-9c1f-0a9b54e961fe',\n",
              " 'd4ea8991-15a0-44fc-9c58-89f65c22cfc5',\n",
              " '142ae3c5-1db2-4622-90ed-d06599de70f4',\n",
              " '43cd99d0-997a-4935-84a6-0b5b046f198e',\n",
              " '05129f3f-2869-4133-a393-74f04f43c2fc',\n",
              " '66ea7e0d-8dc5-4021-b4ed-5df905b49b3f',\n",
              " '3133e24b-b8af-43bd-a442-df8a3ae41f2e',\n",
              " '0af29b08-279b-4305-86f3-32c5c5b64360',\n",
              " '8af06173-7f31-4b55-bf11-9d128cc0a379',\n",
              " 'ea1c3237-1611-44c9-8811-9d1ec805f9db',\n",
              " '9843581e-715f-4db9-9637-a78b7543925b',\n",
              " '184dfa69-b3a6-43ab-811b-1c2ae796e962',\n",
              " '0453bc70-1b5d-4113-8172-c1f0dd1c7d7c',\n",
              " '6f7a5a9d-cbb7-4f13-8fb1-7e1d81b97240',\n",
              " '7be9de48-7612-4169-b560-b2f43c71f594',\n",
              " '63cc7891-2894-4801-89ac-850f5e1f7a61',\n",
              " '8fd3e4a5-83be-4f61-96e5-c2f7f514d689',\n",
              " '53a6fee3-2a06-4ede-ba14-efde44775002',\n",
              " 'f1d08b7d-a52b-4480-ad12-9699662b0839',\n",
              " '701386ba-f156-459d-98bc-1eb897d9ecf5',\n",
              " '65cc422c-61af-49c1-a16c-4e211125a19d',\n",
              " 'ab97730a-23c2-4c9b-bbb9-40c897aabdf6',\n",
              " 'a95e8dc3-21a9-4cc2-b597-c1a0bd1b4e78',\n",
              " '960018b9-9f87-48d6-9cf6-f4f9c7cab982',\n",
              " 'af93d5bb-8e99-4e10-9838-35358b22cceb',\n",
              " '7e8d33ad-2cd0-4254-a9c6-1f95acddf4ff',\n",
              " '7884098d-4fa7-4fea-9f9d-ef4f90688347',\n",
              " 'a8633367-f7b2-48a1-8c14-84f7b78248ca',\n",
              " '797e3836-5720-484d-b763-b9fdfcc158c0',\n",
              " '0acfe870-aa67-420e-8d14-ddfaa64ed455',\n",
              " '99e7b41d-c7b7-4799-b03e-28a580cd91d6',\n",
              " '55e34382-5622-4cfa-92a8-d6ce1572cb88',\n",
              " 'd0df7957-ea91-4d43-b370-1572ba59e3bb',\n",
              " '6c3579a9-de0a-4883-a269-47d27e20111f',\n",
              " '43da4f1f-b8a5-4a83-8253-808a36f19b4b',\n",
              " 'd71db5a4-2222-4938-af1c-2a6726ad97e8',\n",
              " 'cdefa7b6-930a-442a-aa24-c4f1a2dd9f0e',\n",
              " '75add2d1-e02a-413d-88d5-9228132b3d8b',\n",
              " '8d66e063-c72e-43be-8ebf-a034d3cf96be',\n",
              " '03549277-e0e1-43e2-aaa3-d609579eead1',\n",
              " '98221dcd-f09b-45ad-974c-334e4d5ab43f',\n",
              " 'ff8dda56-2bc3-40e2-b022-baecbe9aeec0',\n",
              " 'e7082003-0ebe-4e20-85af-aa678d97ab40',\n",
              " '5268e38d-66ed-48b1-9719-4dd9d5d80dbb',\n",
              " 'ef57cb27-ca3a-48c4-83cb-e71f2c57e419',\n",
              " '571fb4d4-bcd8-4632-bbe2-cd4022e115d2',\n",
              " '9a5e7f89-c426-46b5-8a05-bbfe2a5ad3d3',\n",
              " 'c4f45a91-4f57-4b5b-97e0-c1fde53561a3',\n",
              " 'c47bf6b9-8b8b-4e04-a308-2d500daf8a60',\n",
              " '68b20364-c95a-4dad-81c7-1d3048fd2bf0',\n",
              " '042711e9-e796-4e7f-a6e4-ff32f71f46cb',\n",
              " 'c9afb897-34f7-4551-bd34-0d502879e8dc',\n",
              " 'd7052d0c-4fae-4e5d-a182-f1cb93958e23',\n",
              " '7b41ac4a-304c-45b3-b01e-30aebe9f315f',\n",
              " 'dd5d1c82-c6b7-44ac-bd69-91daffcf0792',\n",
              " '32c626a1-63b3-4b38-ae73-51ad8420a450',\n",
              " '66b6fa85-5922-49db-82d9-227d82fe14cd',\n",
              " '5fdfad80-0250-45b8-8de8-a99fcaddf800',\n",
              " '9a608539-b8c4-44ee-9c47-394daf39fa27',\n",
              " '3ebed300-387e-40e9-a795-a0b3265ae949',\n",
              " '1f52f0fa-f551-4353-bd43-f802d4ec467d',\n",
              " '2aa98631-f83e-42f9-8cab-9e829b5dae38',\n",
              " '82807773-9839-4149-afde-313812e4bdac',\n",
              " 'aa49dc81-cb8e-4bf2-b9f8-a1d9180a4252',\n",
              " 'a68536ed-e5bb-44e8-b205-1cd222bfcb93',\n",
              " 'e4560a84-7f54-4fbc-a073-e305da2bca23',\n",
              " '8a48bbcf-f431-484b-8ac0-51e64d349f84',\n",
              " '8df83bfe-931e-42f4-bc6d-892615976847',\n",
              " 'c8ab18eb-f99b-4dc4-9beb-10b0475791c9',\n",
              " 'b6a0fe60-14e6-438c-96c9-74aafac6c8b3',\n",
              " '76055912-160c-4041-8f8e-c2a076e262ad',\n",
              " 'b75bbfcd-4f3f-48b2-95a5-d2b5bfb5b0b8',\n",
              " '13f3d0fd-b26d-40f6-93cb-ec7bac7cdd95',\n",
              " 'c0100142-0ff1-4cb2-ac7d-857cb5d43560',\n",
              " '8bedccd0-4a4d-42d6-9224-b31494f90126',\n",
              " 'cafbd6ee-a3bc-480f-9899-8adeefea7bb6',\n",
              " '0c1b4df9-bb84-41d1-80fb-116764c1171b',\n",
              " '4295a585-7454-42ae-8e24-5590834e503c',\n",
              " '69a5f981-5900-4f7a-8e42-06d9c9143be8',\n",
              " '72282f03-b4bc-4832-b3df-2018303af21a',\n",
              " 'e3a8dc3c-4ef2-45c2-adfc-57ca5e363f82',\n",
              " '35e0d67a-8980-4ea4-93bd-ac8798109d8a',\n",
              " '24bdfdfb-360b-4888-9e3c-fa5db1c11f10',\n",
              " 'dcf8cf9b-361b-4dfe-9adc-81837774f855',\n",
              " '2bd0560f-c639-4a0c-b1a5-f5087893c74b',\n",
              " '87d5f25e-6b41-44ee-b641-949356e3f14e',\n",
              " '68afbfb8-c148-43bb-ba1c-640f219fd694',\n",
              " 'a20919f9-be4f-4ef1-bac3-95e7e33058c9',\n",
              " 'c1d12f6f-7422-4624-b82a-1d98dc2a8a03',\n",
              " 'f01e634e-491b-4677-836d-99b380b225f3',\n",
              " '54844997-2611-4a9c-ab6b-dccd85407ed8',\n",
              " 'f7336842-2df6-496e-9d64-f73131fc1de6',\n",
              " '41967e56-14b9-4a1b-93a4-60892a64ff00',\n",
              " 'a72e3dc3-a425-4f7b-8928-e1af9c41b43b',\n",
              " '00708cd7-e1c8-4cb6-9862-e2263eebe725',\n",
              " 'dcb4f5f1-00f3-4bf3-9f43-794493f8a181',\n",
              " '88cc559e-ad74-4faf-a77e-f618d55a2aed',\n",
              " '3078048d-9a01-4306-a010-7a77694cf889',\n",
              " '419d4d43-a61a-4580-b97f-204e6a24989c',\n",
              " 'd8e7be47-6a29-4cab-86bb-90601b9ce19b',\n",
              " 'be2f0601-8ad2-4dcd-b4a7-4752d7923afa',\n",
              " '664f741e-27de-429f-97c2-9bc9cffc63f6',\n",
              " '711d1066-8180-4907-8fce-bb971ffff2d7',\n",
              " '7ea9ea86-494b-477b-8554-f0eb2d7f3442',\n",
              " '4c72d55a-bacd-4360-9a5e-2c406a320ba7',\n",
              " 'a7441b14-cb30-43f9-a514-9bb526dd5537',\n",
              " '9637b411-c72d-4aea-9278-aa4f3b509548',\n",
              " '5b4e3f93-47c9-421d-9adc-8ef21a6cfb8d',\n",
              " '8ce2a381-413b-4d95-85b6-c25266349759',\n",
              " '4d16c6ef-5368-4415-a6d5-0d3f28fba069',\n",
              " '0160a7b6-9809-43fc-8995-8e7886060d2d',\n",
              " '537277ba-af9b-43d4-b2c2-feae3e2f595e',\n",
              " '7acf1359-dbfd-4d51-a7f7-c15629310b80',\n",
              " '88caed08-a12e-4f42-aa3c-374c318c5216',\n",
              " 'ddfafab9-4992-448c-8f3b-d31f3c760c29',\n",
              " '68251c4c-7511-45b3-9c18-44a0a4446f80',\n",
              " '44f1d9e3-98ce-4b32-b264-0a48ff4f811a',\n",
              " '5cb915dd-a10b-4e96-945f-d40589f6bb49',\n",
              " '0b81e206-67a5-4b61-bc3c-a0b4ae98c2b4',\n",
              " 'bdc50087-4aad-43bf-a051-864850314469',\n",
              " '1c613b43-4995-42e2-9874-a984e784bc81',\n",
              " '7aa3e942-8ba5-464b-9db4-0b4d63ba55dd',\n",
              " 'efd89bb7-a774-4b84-a908-dae544a59008',\n",
              " 'b090c11d-a7d4-4a07-8970-38d15df68df3',\n",
              " 'e4c9e7c7-0223-4f79-937d-95f385c41bb9',\n",
              " '1e9bcb8c-6d8a-4fff-ad88-af10dc52af3f',\n",
              " 'fd95664e-db05-49a9-b3c0-a16d63add43e',\n",
              " 'ac863214-4b6e-4bb9-b57e-5c695799bec5',\n",
              " '769a758d-ac16-466d-8da3-616c6466f8b9',\n",
              " 'e832f734-1cc8-4c1f-989e-59e9f0f294ce',\n",
              " 'e3ac2d68-80d1-4e77-a91b-2dabffb1b183',\n",
              " '0e939622-0bfe-4106-9276-6ddd1c0395a5',\n",
              " '6892564f-239d-4f94-b960-dad22a4d66ee',\n",
              " 'bef3cdea-82c0-4ffd-b5b8-bf4c3558f3b0',\n",
              " 'dbcffecc-5d17-43d1-aaaf-170e41be9ef1',\n",
              " 'e95d2546-147d-49c5-aef8-cf16d51b284a',\n",
              " 'db574afe-b221-4f1b-8b90-df1703469b7a',\n",
              " 'ba1757bf-e5bf-46e3-9480-f4d31ed1889c',\n",
              " '300b61ff-7e8a-4d2e-980b-b77ace823c4a',\n",
              " 'b1af1a5b-6914-4bc0-84aa-ccfde76bf16a',\n",
              " '360f83fd-dddd-4cec-b6a5-d073b96da92d',\n",
              " '45ad416b-521e-451d-88d4-de879f3221bf',\n",
              " '1d47e901-e558-45a3-ac1b-8ed72eda0355',\n",
              " '85a907d8-89f6-4169-8605-97b4c9ffebb0',\n",
              " '062452b4-dbd8-4a95-a103-1bf7a1e26b83',\n",
              " '44065fde-a08d-4794-a881-5c55cb15f46e',\n",
              " '52ef64f6-6bdf-41e6-a0fa-5e6d79784f28',\n",
              " '27dc9936-55f5-4fca-9bef-8eceeda71b9c',\n",
              " 'd680717d-5f0a-4b3f-bbb7-71a27cb2285d',\n",
              " '06946422-1a9e-4175-a82c-3b75f7ae8614',\n",
              " 'e85580ce-98ff-465e-b5cf-007e8137a5c1',\n",
              " '6d318357-c358-40f4-b801-1fef85df2692',\n",
              " '7100fdc0-fc83-4155-883b-ec90aa547450',\n",
              " '6f9f7740-2298-484d-b345-e316ca678e73',\n",
              " '0aebf482-3382-44f8-abf6-63fadd1e3dde',\n",
              " 'a02138db-d062-48c7-8cff-db7cc42d430e',\n",
              " '780f2558-6f86-42ad-aac4-d1e3d52f0e39',\n",
              " '8be12480-bdc0-46e0-a755-368a292e0fe7',\n",
              " '9ee80861-4d69-486b-aea1-0db00c4c6ce3',\n",
              " '1a7b5bf8-e1d2-4606-9335-47d0dad29a4f',\n",
              " 'ccba935b-d29c-4a14-8507-5620f642fbb0',\n",
              " '285abfcd-e49f-4778-8583-4a37580740ec',\n",
              " '6236b543-f74c-4125-873a-1b639ac75116',\n",
              " 'cafa859c-dfca-45d4-8844-fe49dcfbf81c',\n",
              " 'd668178e-93c8-456e-bb7b-598da7d32319',\n",
              " '147c7c7d-770e-4284-ae2e-b03c00976654',\n",
              " 'af30faaa-a9ec-4106-bd94-4c2ba8f03b04',\n",
              " '7bf121e5-1011-412d-869a-a595d3f4c8c6',\n",
              " '5d3665e6-f7ad-4999-a40c-ca780030a8fc',\n",
              " '4c0e7921-4091-4b5c-9edc-aac539cf66ad',\n",
              " '22e64c61-bfd1-4caa-baa8-58bfd6e02424',\n",
              " 'c200144f-4244-4658-93de-666644171a10',\n",
              " '6beec4f4-6625-483d-b77d-bdfdf26518fa',\n",
              " 'cd028860-4f33-4694-a2cd-ba08531da169',\n",
              " '10cb96c9-d156-4286-9500-0bdd48d9a7b3',\n",
              " '80a7d53b-ca71-4d3d-9afe-828bba9663e2',\n",
              " '73a622ed-4660-40db-83ac-9305d05134b5',\n",
              " 'b69ad920-7a42-4553-a1ec-2f5106df1932',\n",
              " '813cd6f9-d467-47c1-93f7-c4e8947cb898',\n",
              " '752c1105-fc2f-4d96-8d9e-6357c501d7c4',\n",
              " 'd56192d1-4db5-41f7-8b6f-f49828d9f48c',\n",
              " '6be674c4-2e30-4833-8d3e-3385c89a7028',\n",
              " '7e73188b-44fd-4e89-a500-fc82e436c97a',\n",
              " '819fa2c3-29f9-4faa-91c7-07c8f36ab727',\n",
              " '1a7034a6-b995-4228-a555-f4627d321d00',\n",
              " '013a4490-adb5-4ef9-b21f-efd481dc04f0',\n",
              " 'f0f219ff-0a36-452c-b2fd-4631f80b3f50',\n",
              " '11200504-1b05-4a39-898d-7383871a24ca',\n",
              " '0c7f7a7d-fcf4-4033-a19d-d3e2385e73ea',\n",
              " 'b12dc573-2469-4c03-805e-9820562297a9',\n",
              " '5c9759f0-f17b-4219-b5ee-d527a239babb',\n",
              " '8309de44-222c-4f09-b774-275461ab7c04',\n",
              " '97c4c613-9f34-4f8c-8ad7-acd30a240faf',\n",
              " '23e27079-8b40-4305-9553-46306b4a683b',\n",
              " 'ecacdec6-42e2-46e1-bf51-4e97825d1dd6',\n",
              " '026c255f-5c29-44b9-a3df-efcde621998e',\n",
              " '6baa5839-4533-4448-9c7b-2aff34eb41d8',\n",
              " '0c170b53-2e9a-4e79-ad79-c9786e532de2',\n",
              " '0600629a-7f85-43c1-8392-c82934896bbd',\n",
              " 'fe15e83f-1501-4c6b-a627-8712666f8010',\n",
              " 'c8a262ad-ee4d-41e9-adb2-d71d98acf52a',\n",
              " '44b9aec3-bcd2-4069-92dc-d10bf208fe8a',\n",
              " '694629d7-6d23-48f5-8d4e-b4e28ab8fbd9',\n",
              " '7fbaa64c-0596-44a5-88fd-210c509d9d42',\n",
              " '89fb4bd0-88af-4a97-a5e1-f9955f567d16',\n",
              " '9c429d6f-82e8-479a-ac4d-ace1aac86f67',\n",
              " 'de6d5b61-d8e4-4869-9ee4-dc7c9778b8bf',\n",
              " '6b0260c0-31be-43e0-987c-f95cb91a429a',\n",
              " '06379487-f2d3-49a4-b04b-a3bd47493ce9',\n",
              " '152d8854-f669-4345-8699-121fb262f876',\n",
              " '8434de4a-fd20-4d74-a2a4-cf9f41d69036',\n",
              " 'b5af0ce0-cb3e-4672-abb1-cf375bfbc573',\n",
              " 'b0985a43-cb51-42c0-b334-150207fcb86b',\n",
              " '5bcf76e5-b233-4f19-927e-4cdd43a49053',\n",
              " '53eca9ba-5e38-4f1b-ac70-acd1acfca481',\n",
              " '20435206-6362-43fb-8222-9b20c55275af',\n",
              " 'fa90d03d-321d-4c2a-9408-49f791b376af',\n",
              " 'ff5fea4a-f723-4a7e-8681-21d14875a668',\n",
              " '452404d2-86f0-4dd8-b7e3-d5a3d308985c',\n",
              " '939ea47d-f79c-4a12-9c76-9e6dc5789396',\n",
              " '8d243b2d-089b-410c-846d-b456da7c1f4c',\n",
              " '7b4dc1c0-4ffa-4cf2-8cec-517e9fdb2e7d',\n",
              " '5041be1b-4454-4821-adb5-768154cf4674',\n",
              " '8e3acec7-3cd0-4657-8da8-f939250ede88',\n",
              " '2bf26188-065a-4e2a-b32b-f8c127857f70',\n",
              " '5d699e8c-dca5-4acd-97dc-b8a25d6fee80',\n",
              " '6eeb520d-b1b4-43bb-93c8-c1c94028e54a',\n",
              " '7752565d-0212-4867-8231-9e0c8b030d05',\n",
              " '87b8c386-f3d7-4d3b-a524-c738105d6a05',\n",
              " '170d95a1-02d9-46cc-9242-f25a9933f5bf',\n",
              " 'a4977146-aa13-47c9-b875-65c82e9373dc',\n",
              " '30f0482d-62b5-4ee2-be1f-ad4f180a318a',\n",
              " 'd010431b-0abf-4a80-8b3c-5974a1647f01',\n",
              " 'dd603558-3824-44e1-9091-ccec50c8a963',\n",
              " '79ee0d0f-5110-4473-927b-b446a9adb0e7',\n",
              " '0882ffb0-f47f-4a54-8eed-c718559236d6',\n",
              " '6c0adf5e-5d33-4bef-a0f4-8cb21089ec33',\n",
              " '39e7fb3c-0914-4b70-a231-7b4ad6e3040c',\n",
              " '2e2e2723-41de-4aa8-8541-2218859c4bce',\n",
              " '90547a7b-9ec2-441a-9be5-8e48586b92f1',\n",
              " '04ec4bf5-ea7c-4684-a827-fa29aba5d75d',\n",
              " '39fad54a-7e55-4df1-aa29-0ed5388d87cc',\n",
              " '56c60475-94a1-41dd-92e0-00fd588b6f42',\n",
              " 'd0cf2690-0a56-435e-ad12-d7d6974cf301',\n",
              " '9334f6d4-788d-4d37-82b8-154486ed70fa',\n",
              " 'd2d526e5-4b85-4676-80a4-8c06b7d9fa88',\n",
              " '36f33130-00a2-418a-9eda-33e143bd02a7',\n",
              " '99a252c2-0f26-4150-9088-aa697ff4b84a',\n",
              " '10e9759b-e8d3-450e-918e-5e55e84dd643',\n",
              " 'ac3d6017-59fb-4150-bc3b-94d580d65cef',\n",
              " '62b4ad57-dec8-4e42-8747-5b13f0fa8167',\n",
              " '5cc89f73-0b7c-4b9c-83f5-9e83883cebb1',\n",
              " '7969af00-ca00-4f68-8a98-18686450b48e',\n",
              " 'bccb3a79-9f1b-48f0-b6d3-61c08da4a212',\n",
              " 'a834ac89-2ff9-4711-8ac8-829a79719479',\n",
              " '0f27bfeb-6e16-447f-8a16-3d83649fad6e',\n",
              " '5b1ed017-e28a-4f66-8c42-fe407c73a9a3',\n",
              " 'd3e5fa8f-5d9a-4d08-8ef2-dc7a4a027fe8',\n",
              " '353268ab-9df8-4920-a7e5-6b79d32e37f6',\n",
              " '5825da1c-1d6a-43b8-a2d0-815732b4d094',\n",
              " '06654373-f1df-4852-b407-1fded9f620f8',\n",
              " '7dadac63-997d-4030-a177-1e1f336d2fb3',\n",
              " '1ba0f983-9229-451f-9672-73d648a5e0d1',\n",
              " '889f73ac-22d1-49c6-b05d-05695c2c7c1f',\n",
              " '4b0f2dd2-a105-460f-a8c0-f001fa82ddf0',\n",
              " '8e3ccd33-7095-4ca7-956d-355d40449759',\n",
              " 'a755866f-aacc-4407-af52-36d886be31ad',\n",
              " '4a7af739-70a8-46e8-9bc1-8343d50a3fc7',\n",
              " '811ca32d-9b9b-46eb-adee-45f9ee5a54df',\n",
              " '29210385-0fb5-492d-b5e9-521c691a7610',\n",
              " 'b4bc1775-1376-4556-9fd1-daf4fa53f9e9',\n",
              " '2f5d271b-4a0d-4da1-b5bb-a564022ef1cf',\n",
              " '97de003f-0bec-4de9-b1a1-fa5d9f5bccc6',\n",
              " '38e410e5-714b-4ff6-907d-8af0ec0018a1',\n",
              " '4a78b524-8457-4e9b-8a4b-e8d7304e1de9',\n",
              " 'd3713f53-fd3c-4ece-9748-8167ed5d17d5',\n",
              " '3c5e7e7a-19ca-4da9-b1ac-dd845fde0278',\n",
              " '059a15ae-e714-45db-91de-1d76ef186349',\n",
              " '334f4da7-e6ce-4e8f-a7d4-9e5cc0d26487',\n",
              " '8c268362-1720-48b6-ac7c-8c20327dae52',\n",
              " 'e982a940-ec19-4af7-8973-88fc97da1f44',\n",
              " '9e45491e-e3ec-419c-8828-0900048c984e',\n",
              " 'b309d73e-141f-468e-9ddc-aa6c40b766d0',\n",
              " '99ecc084-458a-4454-a2dd-222e5e8da30c',\n",
              " 'b141cc61-abed-4ac2-ad2b-b5bfc7126bbb',\n",
              " '19a7cbd4-8936-4a6f-9932-f944ff7983c4',\n",
              " '4189d750-900b-4f56-b924-0d12e407c2f4',\n",
              " 'b91529b9-e518-44ec-8a38-e572c3e0866f',\n",
              " '3384943b-d7b7-4f25-b1a0-adf1e0c311f3',\n",
              " '1d680ec3-c128-4a7f-ba4a-2dfd38664354',\n",
              " '3126031f-1fd5-4e09-ad32-aeec7a3df00b',\n",
              " 'bf9146ca-4e51-4d84-8fa5-5e03ffe70030',\n",
              " '82ef9771-3124-477a-a918-1a5a45249e10',\n",
              " 'a1ac1b5b-e80b-4d55-809a-6f2f10ff2088',\n",
              " 'f13de2ce-77e0-4c1c-bf2a-2f4f7834c32e',\n",
              " 'a01b0eff-b193-4935-aa9c-310c19f6e2a4',\n",
              " '20133fd3-dd8f-4778-be3d-5f46f854e96b',\n",
              " '72fd6f4f-cac2-425f-b67d-b55d15e9a9a1',\n",
              " 'ecf866c8-c706-4001-b7a3-ffeca28ba7cb',\n",
              " 'd917d39f-0333-44df-b066-34161d378a02',\n",
              " 'f5844b3c-5f49-4ae3-a6d7-96544dfdc99d',\n",
              " '8814621f-dcee-4a93-a83b-f59bfcf70be6',\n",
              " 'd8e99f69-fdb3-4020-b507-ffa08c286771',\n",
              " 'af301f26-8660-4eb0-9563-5373fb7e6824',\n",
              " '216cade5-c6ce-4308-a506-457c29e852c8',\n",
              " 'dcfccda5-6b2d-47a9-acfa-3566ca0e2d12',\n",
              " 'ab604fe4-55a7-46ba-9e43-0640b75b9443',\n",
              " '97d2c8cf-5eff-4c0e-8b6b-be756ab5d023',\n",
              " 'aa03165a-3a1d-428a-b648-162e7bb8d9ac',\n",
              " 'a3b82826-94a2-48fc-95ea-27d3e92a84e1',\n",
              " 'f8c72d4f-653c-4e80-ac77-6d86c8df7151',\n",
              " '29918986-1f3a-428c-a7af-5db27d5753c4',\n",
              " 'ecb2c3b9-a10d-4b86-948f-4272083f83e3',\n",
              " '42c0fc04-5207-4ab8-9d94-4a41130bd7e7',\n",
              " 'e25afd9b-4dee-466a-a35c-1b84cbedcbdd',\n",
              " '18a7c829-2f39-406e-8969-62b354fc644c',\n",
              " '326288a8-532e-40f2-84d7-f2ca449af84f',\n",
              " '6f42378b-af96-420a-b7aa-0852142ee57e',\n",
              " '69a09dff-868f-454e-ad53-ad8ff87a9bb5',\n",
              " 'e8b63c08-e655-4a7b-85a9-0aabb2c53730',\n",
              " '2549f1cc-811c-4f51-8112-e71548745f19',\n",
              " '17848416-538d-4f2b-899f-bbe6b1b9816a',\n",
              " '2c012a0a-628a-4c28-aa15-0f535d609935',\n",
              " 'd79ee2b7-0e12-4748-ab6d-fcde1c71ab00',\n",
              " 'cde2582e-c0d3-4b4b-a126-12c3ce2bb03e',\n",
              " '65e7370a-6b51-4ce3-a36c-5db9d0cde11c',\n",
              " '79014609-3178-4596-8780-ddf7b0c6c926',\n",
              " '5197ae23-7309-437e-a146-93c67bee84ad',\n",
              " '34ebde64-a1a6-4176-91d1-82f9daab9b70',\n",
              " '30ab8772-6e66-41c8-a5e7-13cef78b9663',\n",
              " 'aa1c009b-e711-45f3-9e3d-ec2ae5d3e660',\n",
              " '51c7f9a0-5a24-411b-a4ef-85eda8fdf96b',\n",
              " '996ea232-470f-4e84-8a06-b1eef2e94689',\n",
              " '07f283b8-0acb-42e4-81f6-700a1d01c8c1',\n",
              " 'a72e78d7-e78d-4d81-b729-825922f28c2e',\n",
              " '0ffb9706-5ddd-44cd-9765-2c091b431f0e',\n",
              " '98cef084-ee61-48fe-b558-98700d0114e8',\n",
              " '4c7cfc43-6188-4321-9511-736c0f1b18ef',\n",
              " '11b4c351-c318-4989-91b9-3c26e31e852b',\n",
              " 'd21a1d20-a13e-4848-b37e-d1e1435b116a',\n",
              " 'f0ae5b68-a691-4fec-87f4-ae6b2c9e109a',\n",
              " 'dfcf58f1-2da0-4ad3-90dd-9a2a51ae9588',\n",
              " 'e2994fa7-2597-4826-90d5-8c7e14cb0a63',\n",
              " '4d45823d-51d0-4c6e-bc01-93a8a5068121',\n",
              " '7c76863e-db5b-4b3a-9c97-ac96aefd51ee',\n",
              " 'e2ecfd0d-c989-4505-a0bb-8df0d745dfe7',\n",
              " 'c6a69da1-3533-425c-913a-8edb3026e971',\n",
              " '2f572188-3d80-4448-a563-4c67acf23f35',\n",
              " 'f0a55f55-dc0d-4e1b-8a7f-bb5320c341a4',\n",
              " '9c008406-55cb-4dfc-aa92-4e5bb4725a34',\n",
              " '8ffb53eb-9bd7-4e12-991a-2422ff62b1ad',\n",
              " 'dd86bd7d-3eca-4e0a-ba89-19b352cdde2e',\n",
              " 'ebf39e31-dae2-4e70-bcf2-617c21d53368',\n",
              " '8e7715f8-8bcf-4a0b-8cee-47b859f1793d',\n",
              " 'eb75fbb7-a2c7-4471-a2b4-2688f3b40ec7',\n",
              " 'c1da9a81-2379-4202-8c42-2673f5ba4a62',\n",
              " '127a0e11-be8a-4b2f-b80f-178c1d1e7792',\n",
              " '9dc568a1-43a2-4e8e-b966-ff62fcf20a22',\n",
              " 'b5cf58da-3360-439d-b0f7-b114d0794bc7',\n",
              " '28006d93-3d09-42d5-83e8-26568d446e52',\n",
              " 'e514679b-ae7e-40bb-a606-f4cdd3559a0d',\n",
              " 'a978cc2d-6b00-4992-adc7-5301e8291522',\n",
              " 'd4184528-15df-49c1-81bd-1434efcda9a6',\n",
              " '998cdfc7-3b24-405b-8fe3-96fb8297b9d9',\n",
              " '3199ec8e-61b1-4816-9c6e-327632e0730b',\n",
              " '8c1eca75-c5f4-4606-ab6c-3909fa85dd3b',\n",
              " 'ecc584b7-cc7b-4d09-961c-e563d6ef7812',\n",
              " '4c3dc03e-f2c5-4f30-980b-9cf8e354d1a5',\n",
              " '585c06db-8316-4fcb-9dad-a97ae6edf7c3',\n",
              " '4fb027ed-0d3d-4423-b85a-5c6049998a46',\n",
              " '8e3a3a1e-ce59-450f-91ed-f6420831880a',\n",
              " 'c72bcc0a-a3c1-4157-ba0d-2bbd7279177d',\n",
              " 'bdffb476-c747-4dea-9df6-891c4e7ae991',\n",
              " '4a741c74-6f95-44d0-90b7-2d52a7f5ae1e',\n",
              " '5f57613b-ccb5-478c-b25e-194083ef4a9d',\n",
              " 'dec64bd1-2f3c-4d1a-9394-fc1f4cdcd56e',\n",
              " '4cfc5301-b7cb-41ce-948a-d235529e57d7',\n",
              " 'b6f4e162-a56c-44e8-be9f-d6af0aa1ce01',\n",
              " '8cdd4ae6-8cf7-4553-acbc-83df86204769',\n",
              " '1988dd8d-ff97-4de9-9667-5125ea1cfb30',\n",
              " '76b406e4-1d30-4b7c-8b6a-fb07007d262b',\n",
              " '7e92755c-de96-4893-a07c-414535ab5680',\n",
              " '2e88c449-a288-46f7-8e89-8719275b85b1',\n",
              " 'd1f9684b-85c9-4ec5-922c-e94314cee434',\n",
              " 'cd26e187-6bbf-4b29-9616-69bf04122a0e',\n",
              " 'c54371da-283c-48bb-b803-5e18623bd3bd',\n",
              " '3073c6b0-c282-4227-80a0-5bfcb6286bc7',\n",
              " '8bfa8dfe-5cc8-416e-bc8b-af9cb9609d9c',\n",
              " '97a30a41-9763-4371-8afb-5966652880b7',\n",
              " 'ab0b6f47-ac80-495f-92af-6f01c6beccde',\n",
              " '00d64712-3b44-4e52-b5c0-5c9c38cd2bb7',\n",
              " 'ba02a2d1-97b5-4d12-a812-5d0bd5da3afb',\n",
              " '2648b303-b4ca-4b90-aeb7-f9859477ad82',\n",
              " '8c47b027-3fc6-4d7e-bebe-a36437261b36',\n",
              " '6510c326-2d25-4cd0-a989-1673280a9ab8',\n",
              " '57d029af-78de-481b-a811-c6a41e869c8a',\n",
              " 'd41e4f0b-e62b-497c-a912-1a4fd26c7c41',\n",
              " 'f22ad5d4-00ce-4013-973c-54fa5c1216ed',\n",
              " '02ca7dc1-bd6b-4bc0-97d4-ccb9a8fc11cf',\n",
              " '0341fc3c-d695-4689-88b2-cb180fcb1216',\n",
              " 'b2cac374-8f88-49d6-87b0-fd9bd21f3242',\n",
              " '32d29d0c-de2b-4011-b479-89b6d486d547',\n",
              " '5566d1cf-83d5-4cbf-a472-a2a3d4878c9b',\n",
              " '47397ca8-5a7b-4773-bc23-40aa5b3b626f',\n",
              " 'e867f7fd-d7bc-45a1-8a29-a18da5ee1357',\n",
              " 'ba450b27-03ed-431e-937d-c1f22dc7fc0f',\n",
              " 'b5d5d9a1-cc69-4115-a80a-233ae637e9ec',\n",
              " '10bb5316-4e12-491b-96e5-ac9bee3fe1d1',\n",
              " '7c377c87-cfc7-412b-994d-3c242609b515',\n",
              " 'ed254b67-45ee-4e0c-b934-2db14e3331f4',\n",
              " '58db922e-28a2-4403-972a-932a4f58833c',\n",
              " 'c69f14b3-7bbd-4fe5-bf6d-2f0f2089b703',\n",
              " '05590844-2bcc-474e-94aa-1b2b44e2c8c2',\n",
              " '6b094022-6510-4388-89d6-e473ead4955b',\n",
              " 'cb52d53f-34af-4df3-a3a7-0e0de1451952',\n",
              " '41f9af49-424f-471d-adf6-111b9daf0214',\n",
              " '032fcc64-4b63-448e-bd34-e158a703b089',\n",
              " 'f00568de-0ce2-494c-80e4-94f809647ae4',\n",
              " '780452c5-c0a6-47f8-80ee-ed281ea415c3',\n",
              " '0e60402e-ca66-4d24-96db-13726d42eb55',\n",
              " '8c777f97-c3de-49af-b32a-0edefc561ce0',\n",
              " '31fffd48-933b-40c4-8b1f-ed35df4fe6e2',\n",
              " 'e7972a4b-c0f2-46e6-8b05-137ef4b3b80e',\n",
              " 'ca9aa274-2354-41b6-86c8-07e0381fc25c',\n",
              " 'cc56689d-deec-4643-a924-8bb329c7c3ac',\n",
              " 'd59b15de-7157-4baf-9b46-62256bd6ce01',\n",
              " 'afed0e63-5b06-42af-8ffa-17dcbf919b1e',\n",
              " '5b342948-0e0d-42d0-8e39-c5cfad3a5fc5',\n",
              " 'ba4b2283-63c2-48ec-a831-287402b6f725',\n",
              " '75405ada-f3ab-4cf9-bc9b-0542273f90fe',\n",
              " 'b8a04bfc-bcb6-4d79-9591-552fbd15c3d2',\n",
              " '71b7096b-5954-4253-bceb-71a851ae1811',\n",
              " '816ad616-d9ac-4504-a728-20343f1a973a',\n",
              " 'dfb162e0-6210-4126-b046-d273bf406eca',\n",
              " '82371d48-38d5-491b-a87b-1116bbec95e4',\n",
              " '85c66efa-1e54-4732-8431-3f6e66c94057',\n",
              " '21c3ae50-3acf-44be-a627-d833b42cc3bb',\n",
              " '6e3de13c-66f9-4e10-aae2-8d8501ef9b94',\n",
              " '44d5d430-a73b-4a3c-b86b-690a8d427e23',\n",
              " '76c656a6-8bc1-41f5-86d9-8e64e7ac17ad',\n",
              " 'cd8cad27-e752-42ac-9f6d-30e95ddcaf59',\n",
              " 'c1077495-e02d-4aab-a718-431c3a26fbfb',\n",
              " 'f18d6c01-d478-4cb6-90b9-247a4ee97464',\n",
              " '020594f1-6b36-487a-a29c-fd0bb0416918',\n",
              " '6de1e45f-e4cd-4d98-bd62-54f40f4987f4',\n",
              " '4e98ee14-5836-4c7d-b8e0-612644484410',\n",
              " 'c9cfee13-6f12-4cde-ae9a-eba4e8c5d139',\n",
              " '23aa12e9-9c38-4d59-a606-2c9ca489bc8d',\n",
              " '9bd58c58-0d7f-4fdf-a553-8183fa9aa873',\n",
              " 'b14cccd3-a1c8-4112-89c8-1ca379232588',\n",
              " '9b828fd7-2a2f-41db-831a-1940047efdb0',\n",
              " '80a18837-3117-4d74-bfc1-8042736f4690',\n",
              " 'fd4fb037-add4-4502-85e7-4a58984090e7',\n",
              " '2d973075-17a5-4225-b645-2742ebc1d961',\n",
              " 'a04065db-9aad-43e1-9e16-a6c494fc7420',\n",
              " '20271769-9658-48cb-84e5-5eea427bd69c',\n",
              " '1ba6bd6c-0ebe-4ddb-b9e6-d8bc1855e54f',\n",
              " '82a34643-bd6d-4e59-a231-ee96f00bdab1',\n",
              " '8b16a37b-f316-4d90-9aca-0fadb762a9b8',\n",
              " '9604c858-f5e2-4c08-978b-f9f3d1cd02c8',\n",
              " 'a50d6302-16db-43b6-b6b9-1bf2fedae9f6',\n",
              " 'e28f59db-19ec-4c2f-ae24-fbe777ee5891',\n",
              " '6eb42058-45ea-44c5-a271-24ae3842b43b',\n",
              " '06107d86-0694-479c-89e0-830428ba75bd',\n",
              " '727dd6ec-3db0-43e9-b5f2-498d6bddeeb3',\n",
              " 'afe5878b-da1f-4dbd-b478-0b7415ebb92d',\n",
              " '33c1fce0-82af-4ac9-96d5-29239495a1b1',\n",
              " '305b9981-c99c-4b41-ae6c-b197f46c3911',\n",
              " '9d8dff2a-b095-4173-9a87-8a424768d11d',\n",
              " '12cf5824-55f7-4dd3-ab2b-f486b90211e8',\n",
              " 'c9c8d54b-2ed2-45f1-9618-a1d85bf182bc',\n",
              " 'fb0a560d-f61d-458f-848a-ba54c2294351',\n",
              " 'a59505ee-f748-4ff6-af89-5ca45e2f3cc4',\n",
              " '6eb1e981-43b6-4492-9586-bb08326ab46a',\n",
              " 'fa7e75c4-f515-49c9-b71e-22bb98900ff1',\n",
              " '402a08bc-8891-4bfd-823c-231eeae7b22f',\n",
              " 'd772388e-610c-4163-8ba2-185aef817c6e',\n",
              " '95a445db-1312-470f-92b1-d36fc8783d78',\n",
              " '1f5a3ecc-9aee-4ac5-a0e6-5ffa6d3e8003',\n",
              " 'dc0f0cbc-6112-4d3b-801e-23d81b0bfd8b',\n",
              " '58f4915d-fabe-428f-8ba1-b38296ea675e',\n",
              " '3bba900f-ee44-4e38-bca3-30485f53af1f',\n",
              " '082b62eb-8ae9-4817-993d-fe851df5599f',\n",
              " '7279dc92-b0ad-4807-8bff-9cefab13036f',\n",
              " '90d7639a-67a1-4a0d-b86c-d5154d849754',\n",
              " '81ae4b57-5732-415f-8ecb-35791d121d47',\n",
              " '31e2ed9a-0314-4848-8e6e-29977d8e3828',\n",
              " '8e481075-d501-42a8-ae27-30e4cb3d4e5e',\n",
              " '09dfde9b-6dbe-44e3-9170-e7f832092e10',\n",
              " '496df1aa-bcd5-47b0-830c-2816dae1d57b',\n",
              " '1e399a57-81a5-4dd6-b65e-70ca3f8dff04',\n",
              " 'b24aede7-cfa5-4e8d-9772-43b1964a8462',\n",
              " '729814ad-f46b-4d18-8719-22f9556fd1e5',\n",
              " '1f6aeaf7-fc7f-4e8a-9b74-0f9bbd6ec4f1',\n",
              " 'dce88702-631f-42c8-a49d-ff4a34c06df2',\n",
              " 'eb85f0d6-f5e1-48e8-bdcc-767526e11615',\n",
              " '63a8d2b6-7916-4b17-9842-fbf7594002c0',\n",
              " '6c1e1687-2332-430b-a328-dddcbf1290dc',\n",
              " '75df49c9-9bd2-44f1-8635-7c423bb996b4',\n",
              " 'e91562d4-d99b-4587-9155-b0ca01503e14',\n",
              " '696b6b70-40ec-49ca-b5d3-5bdeb79fc71d',\n",
              " 'a707f701-1cb6-4052-98af-7820daa2c3ea',\n",
              " 'e878f912-3cef-4065-977a-51c28662e399',\n",
              " '0ca8f0da-e76e-405a-b874-eee4716d53c2',\n",
              " '0e906213-ae8d-44ee-a032-10e676df92a6',\n",
              " '9d2dff0f-5898-482b-8951-72091000cd71',\n",
              " 'a78c8b49-e69c-4975-b31f-8f5bf0948bbc',\n",
              " 'e23e34fd-5b49-4b75-abda-aa50206cec95',\n",
              " 'ab379ffc-4d76-4710-8c41-17713fd66a9e',\n",
              " 'bc2bc360-7a31-4d63-8079-9568d6d989a9',\n",
              " 'fda23c67-31ff-4662-a64f-2c68a4a060af',\n",
              " '350b3d3c-b019-40b7-b20a-53ad58cb5718',\n",
              " 'bd5b8247-7603-4b86-8e78-52c63e2160d0',\n",
              " '8835a917-eadc-4278-a7f0-417f5d02908e',\n",
              " '5ca59e60-6541-48f8-9c01-e6cc472408b8',\n",
              " 'c6a1e7f5-d1bd-469e-93c7-0f81ce48cab0',\n",
              " '043e1315-46a9-4967-a5f4-a1ec7861f758',\n",
              " 'f6a8f00e-7f3e-4348-bfa3-6c26f8501d6d',\n",
              " '82cb9523-a917-4322-90ac-978e160dac85',\n",
              " '67a0b368-1f83-4c3b-a07a-d56eaa36c5dc',\n",
              " 'a2735cdb-e801-4f0c-bcaa-486d195cbd7d',\n",
              " '36229c28-0f72-4899-a3af-49b9f9c140fd',\n",
              " '32d4c547-f94b-4aa1-85d0-abd563986ebd',\n",
              " '39073c17-cb1f-4432-a5ad-5b6bbe4382a6',\n",
              " '12fa2365-6475-4037-b0a0-78ce442a2a3f',\n",
              " '92135a28-4983-46f3-b04c-3f99373d4aea',\n",
              " 'e2818e7f-5d60-4953-ae96-774a17177ea4',\n",
              " '5cf5d606-a754-4839-a699-458081a16f91',\n",
              " '4bfa6120-5ab3-47a9-9c33-1a2c466ad758',\n",
              " 'b1ac1aac-2217-4425-ace2-a2809dfafe7e',\n",
              " '3c99154c-9d1f-459b-b669-ac6c3793d5fd',\n",
              " '2202076b-af84-435b-808e-4e7c7ee30e40',\n",
              " '906d5cdc-97ea-4697-9d97-fcf5dd3d684a',\n",
              " 'b313f090-626e-48dc-af4a-8fd00b8356fe',\n",
              " 'aefecb4a-dd46-4f29-8518-6c739a11c592',\n",
              " 'e09650a7-1c74-499e-9018-2b46d069a33b',\n",
              " '70d4e457-b548-48dd-a548-f19612c2a90c',\n",
              " '9e7d028c-1da2-41b9-ba40-b88927fa6c16',\n",
              " 'd76915a3-b3e5-4cc7-acf8-6e3a008f7793',\n",
              " 'e48b090e-69a1-4884-afc9-0031678b388e',\n",
              " '71bfdc95-21aa-4475-9b03-3dd35201e76d',\n",
              " 'de65c640-9fde-4089-92fb-55a03ee97db3',\n",
              " 'a2b4cde1-0edd-4a76-a8af-a104d44e9370',\n",
              " '560052e3-e407-4dc3-a6a6-b3c6319362de',\n",
              " '7dd6c1a4-2219-4671-86b4-31f3dca41f12',\n",
              " 'a96b1410-988e-4b0f-aeda-98f2a5a6eef9',\n",
              " '97e590a3-9210-4e4e-aa97-0cbe74616b8d',\n",
              " 'c46ecc9e-38c0-409c-983c-398bbdf6cd22',\n",
              " '2c005da7-7590-474b-9c1f-62b2e09bc7a3',\n",
              " 'eb82827b-e328-4ba0-b89d-ec24ebddddd2',\n",
              " 'f7124081-7796-4a27-a5b5-9ab6423224af',\n",
              " '98700411-d96c-487c-aba0-2e0e22279ff4',\n",
              " '70b06944-32c1-4941-8521-ec5b7f04eee6',\n",
              " '9f7c133c-11dd-493f-8571-1afdbe9dd82e',\n",
              " 'fbba671c-c189-4aa1-85d4-f762a2cc2c43',\n",
              " 'ed1d6fec-d309-45ac-827b-e0354afe4098',\n",
              " '3afa58db-9f65-4d97-a4f4-3ba805487857',\n",
              " '61833654-5916-43ea-8d76-6c3306e6fca1',\n",
              " 'f8af5c89-5bd0-4900-b33c-5dc32b3423ae',\n",
              " '561c2932-1a0c-45e5-b33b-ce1b2c74e635',\n",
              " '869f0536-dc80-4a52-a06a-286d114ca480',\n",
              " 'a139e59d-ae95-47bd-8d95-8af8c255af3a',\n",
              " '9031a26a-1134-44f9-95c8-582ec342774f',\n",
              " '1cbd59c5-2cf6-450f-b0d3-5e6613691550',\n",
              " '07bdbad7-6023-4587-b1db-e0ea4a33d1f0',\n",
              " 'da0172b1-7112-4f28-a362-e961a382fd07',\n",
              " '3713ff50-4dd7-4a24-8fc2-faa49ef6d518',\n",
              " '3609e9e2-8afe-4f43-8138-abed82ea3681',\n",
              " '1adb3948-5750-4cf1-8aab-3e68116c6690',\n",
              " '34ab04d0-2a8b-4064-82fa-76bf646bd7ed',\n",
              " '30948acb-b374-42c5-b47a-9c9c9ac552bb',\n",
              " '2729aeb4-36cd-48d8-bdb1-c7abde99458e',\n",
              " 'a0eb54e4-59cb-4ec4-99be-269764e7eaee',\n",
              " 'c17657d3-c6c6-497d-b13d-18559ee4db3e',\n",
              " '0852c686-6916-4cd4-9cff-bd0f75e4a6af',\n",
              " '4fbd254c-d929-4a55-a38e-48a2bd863b99',\n",
              " 'a9bd8399-8084-4f89-9bf1-f59868ff0fc8',\n",
              " 'f2216847-697a-47e8-8111-8c81f192ecf9',\n",
              " '02e103ec-0704-4e5d-9562-41cc08c96703',\n",
              " '3dede86d-f28f-4757-96f3-41262889cdf1',\n",
              " '0a2e17be-936f-4056-849f-322157963ed0',\n",
              " 'a5c364ad-61d5-4ac9-8fbb-1b72c7bb25e7',\n",
              " '18270295-e538-4d54-b1e3-f636e0a935c0',\n",
              " '8e227f2f-f31a-4632-9596-d9e0c9899e26',\n",
              " '9b102e22-64b0-4652-86c0-52bc16d0149a',\n",
              " '130926d8-2089-4223-b926-6c28cfd10cc9',\n",
              " 'a6e05268-91a2-4e01-a034-8bfa4b3d8fbf',\n",
              " 'a93147ba-beaa-4e38-bd63-c42edb89e3a1',\n",
              " '22448941-fb96-482e-a2cc-716e3f30b5a4',\n",
              " '10372338-c184-40b0-b78d-cc54f329d82a',\n",
              " '57b82b0c-8c5f-455a-8308-583ce8827c95',\n",
              " '918489dd-ee6b-44d4-8fb2-a045537d9b5c',\n",
              " '1b7100ce-cad3-4635-bc98-261f10fb6791',\n",
              " '38e1e7f1-9ef1-4ade-bcc5-2f9fddcc0410',\n",
              " '345fe7da-baef-4ad0-acad-dc1f17cd24f5',\n",
              " '04ea3da4-f335-4b5e-aa9e-6b0af7c098f4',\n",
              " 'b8493ef1-4d8d-4d80-9540-bb0d02b23e3e',\n",
              " '22ad9e18-f958-4268-bfb7-b012d85c97a1',\n",
              " '86a87308-3664-41cd-aaef-ff4bb37d7434',\n",
              " 'd683f7c0-c347-4438-8249-f46176942c3a',\n",
              " '7bdb793a-e9aa-4863-8d4a-142527b30017',\n",
              " '8851583c-d640-4aaf-a250-484a3ed978ea',\n",
              " '860a01dc-a9a5-475b-8c1b-6e33221422f8',\n",
              " 'ff75acdd-8224-4e1c-b3c3-4809f6f4a17d',\n",
              " '159fc96b-3d16-4ccd-b71f-3cf09a163739',\n",
              " '3ec1b2a9-5f04-4f60-9871-ad169d93927e',\n",
              " '21a8042f-e979-43b1-bd99-81edfd662c51',\n",
              " '92344d1a-2872-4e43-b177-6705d442211d',\n",
              " 'f760b1d3-af2a-4916-b58a-d352357d6044',\n",
              " 'bc564f33-6f97-4fe6-a9e4-76165037b658',\n",
              " '565b232d-17ef-4ba6-ae89-c9986fb6e047',\n",
              " '4f2f4188-7681-43b6-8758-8aad2a194d72',\n",
              " '351c3ada-fca3-4b59-908b-61d6735a0e19',\n",
              " '2452e356-482f-429a-92b8-0a2dd01f4961',\n",
              " '2b4129dc-f73a-44f2-82b5-579351139812',\n",
              " 'afbd71af-224f-411b-ae77-0912d46e6377',\n",
              " '60944dac-2cc5-4c3a-8440-4caa180a0f0f',\n",
              " 'a05faaa6-c27f-42ee-9919-2d4e53e7e4a4',\n",
              " '17a69c98-1bae-426a-b835-786e69cb843c',\n",
              " '491dc15d-59be-4d2a-aad6-6f9df0718eba',\n",
              " '918c2617-2dec-4f04-a035-0ae6be34162c',\n",
              " '9a76cf71-5672-4601-92fc-56a7479af75c',\n",
              " '4890a542-dd55-420f-8771-ae34872ba12e',\n",
              " 'e722d8ed-b929-4510-bb5f-229057beecda',\n",
              " '34184f12-3b0d-4e39-94fe-1c4ad35ed04c',\n",
              " '130c987f-7074-4faf-9584-77d266f727f3',\n",
              " 'e1db266f-6a92-47d5-a8eb-a4278b048bba',\n",
              " 'affc0442-959c-4480-86e9-0803d71796a3',\n",
              " 'aaed225f-d401-469d-afe0-8631ef391fd9',\n",
              " '439bd8eb-f632-400e-a352-07a72edc5523',\n",
              " '4b187aab-43cf-4246-a62f-a5b22ac20223',\n",
              " 'c7b118a1-c351-4ab2-af47-63186c7788eb',\n",
              " '3e051a2c-f461-460a-b741-16d4e872f6fe',\n",
              " '5163d215-3508-4692-a25e-0cfb797ac245',\n",
              " '2015c3fb-d14c-4c74-94db-ba5392b4bab7',\n",
              " 'd01132d1-0a55-4e76-8aa5-e361e3b948e7',\n",
              " 'c7747cd4-2b07-40a8-9697-cbba000a6b6a',\n",
              " 'bd214879-2961-4683-a5b9-d5849e7b9df4',\n",
              " 'c54088f4-0f86-40d8-9c48-fdf74d18cd77',\n",
              " 'f0be4ef3-83a1-4a13-ab7b-1472e833d57e',\n",
              " '9f3d57bc-9ffb-441c-8709-2e5c43f1eab8',\n",
              " '959c4a11-39d1-4bd7-8c3f-59d9af394c98',\n",
              " 'f032de63-3911-4ef1-8100-b6b41f8e90cb',\n",
              " 'f824d916-9eab-42b5-b583-d5b7c1334a30',\n",
              " 'be889277-89e3-42d9-8912-8cdb5cbe4633',\n",
              " 'fda549f5-e633-4dec-a908-fbc83909896b',\n",
              " 'e9e285dc-7b94-4ef7-aba8-4b9d386d3c22',\n",
              " 'ea86d278-0b69-49c2-9b3d-a7342da4167f',\n",
              " '7a102bce-1a93-42e0-935c-436d88fe3709',\n",
              " 'adba78f8-add1-4cff-8f2a-210652810bd6',\n",
              " '950c4c82-388d-42c3-98b0-908a8fa1e475',\n",
              " '7268e978-9be6-4c56-8751-f357a057b4f8',\n",
              " '0043c964-0709-4fa1-b1ae-dca06c40b900',\n",
              " 'f445a0e5-6f6c-4277-8915-033f132bee71',\n",
              " 'ab175fb1-cd3a-4b14-a1af-692ad6a91e4b',\n",
              " '2d03690b-dbb1-4e07-8520-3992c547b660',\n",
              " '07e24321-cd4c-4e87-a1fd-255bfff40ed6',\n",
              " '8b4ba2ff-7eff-41bd-9faf-8b598f59a57c',\n",
              " 'd6e4f942-beed-48fa-8c2b-45f1514c696c',\n",
              " 'e13bb2ef-aa74-495c-a795-f6199eef8f31',\n",
              " 'ead9481c-f7ce-4af0-88f6-e47eb52bd66e',\n",
              " 'ad7cc07e-f871-47ac-8795-68adc125f5e4',\n",
              " '8933b99b-f14a-412d-b5b8-f8d82969b85f',\n",
              " '0e974e47-5043-4dbf-9eaa-b911423a8bae',\n",
              " '76053a47-21b3-4dc8-ba46-38309de2942d',\n",
              " '64e60fc1-dcd2-4ffe-9221-7805ca5d7b36',\n",
              " '43ec1779-9a91-49ad-b980-a4a23baa862d',\n",
              " '11a250d9-15dd-4411-bb29-8b41d6f78268',\n",
              " '14a84ecf-98e2-4afd-97aa-2bc934fb5350',\n",
              " 'c8c6e231-e1eb-47ec-8d19-c67ec4bd54c0',\n",
              " 'b3cb7a1e-b099-4c3d-9317-51301dcf8af2',\n",
              " '413bfafb-524f-4ba1-a3ba-773273eab187',\n",
              " '92b6a299-80a2-4ee2-9c38-e2db5fba169a',\n",
              " '30322a59-5228-4756-b942-e7ceb1156acc',\n",
              " 'fbb0cd66-2067-4999-9cfe-a53c402dd2f5',\n",
              " '02c4ea37-a8dd-4dc1-a7e1-b7d0cc312806',\n",
              " 'a05c3d8b-996c-4b2a-b1a8-11a515f57f65',\n",
              " '0514c792-24d4-41ff-966d-9d59fc8374c1',\n",
              " 'ca23c834-3dca-4ae5-a516-83968f1fbe4e',\n",
              " '952e5e97-afbd-479f-bd6f-0b06de6ba5c5',\n",
              " '72a386b9-ac58-4c54-a97c-74383b0c0430',\n",
              " '624d7609-8148-4a4c-83b5-44b55666f422',\n",
              " '2f318759-fc1c-42bb-9f11-c816ed17cf71',\n",
              " 'd6a40bca-a19c-4122-935d-5d58ecb15da6',\n",
              " '3cde56ac-4c3d-4bd3-acd7-8949e1981602',\n",
              " '7e56d136-bae6-45ab-8aeb-7182b9eb6b5c',\n",
              " '706ad29e-3e96-4214-a109-cfc91fc48328',\n",
              " 'fe8001f0-4607-43a5-bbe6-eb1269aa4b9c',\n",
              " 'dd00408b-38a2-4f0e-9cb7-d20fbd7fc96b',\n",
              " '32a8da44-fe02-467c-9d32-77ef3fd6ba50',\n",
              " '53300992-341f-40ec-b7e0-de0c7c143e85',\n",
              " '46519afa-3b62-40e0-89fa-382b92a2b1fb',\n",
              " '009246ad-5e2c-4872-abde-961894a98210',\n",
              " '53a499d9-0296-4e03-acca-7a914b7d60c4',\n",
              " '90b3d073-4f61-45b2-a368-3d930fcdf618',\n",
              " '0871b340-5972-4b00-aded-8cf9d4babaf5',\n",
              " '6ee52743-0258-436b-b443-4f8c674fb713',\n",
              " 'cc3af8ea-fae2-492a-ae68-c2cbadf23492',\n",
              " '0c8ccfd7-dd61-4c1c-8186-6803e56e21a1',\n",
              " 'cc2ff3c4-51c6-4266-a677-bedc223afb68',\n",
              " '1b0aae53-9350-416c-bedf-9339b6e1db81',\n",
              " 'b43da7c9-ab42-40b6-aaf9-5235cea74a1a',\n",
              " 'cf9c7702-c531-4ccb-b1b5-b00f8c95b41d',\n",
              " 'faf80a4f-0588-41b8-a50a-74d7604e98be',\n",
              " 'ab5e8344-7e6a-49e7-b166-3cf06be8b894',\n",
              " '94e533aa-c2ce-4421-b1d7-0346febeb249',\n",
              " '790e26e4-942d-48ef-b2da-bf2d46a36728',\n",
              " '1e12387e-dc34-4166-9bf5-b84f26a17ec9',\n",
              " '3b4fed79-8e15-4592-9217-401dd0d8c4bc',\n",
              " 'c5f0f525-62b4-4f13-a314-fee3fef8c25b',\n",
              " '4910976d-096c-4a74-8d33-fb45f481f05a',\n",
              " '2f28e359-816a-4c83-83aa-7fd9f4f66473',\n",
              " 'e13af665-aa23-4d01-9043-4f773970822e',\n",
              " '66d05ae7-2185-4ca4-873f-c87a78b67283',\n",
              " '2985a98a-5276-47cf-831c-98a51ffd34b4',\n",
              " 'f2eee0d9-288f-4bbe-b020-f695bf606135',\n",
              " 'd579a9b7-3326-4c52-9e31-53575d603da8',\n",
              " '66374599-4d94-477c-adb8-12d7ed3a487b',\n",
              " 'ba99d1d9-cf38-4d28-ae1a-d72bfb78ef4e',\n",
              " 'c681256a-0d35-4416-9c80-47cee11ffd79',\n",
              " '1e774c23-d075-43e7-8f17-f7044a1c16d3',\n",
              " '743ff5ac-dec9-4003-bd53-2f77d395f2a2',\n",
              " '8cd66d84-f6e2-4053-b20d-75186a250924',\n",
              " '0c8aa808-5b90-450b-a13f-773f79ae245f',\n",
              " 'e31afb4d-2ffb-4299-89ca-2a33cef584ef',\n",
              " 'e576d58b-e3c7-4a87-8998-3bbba1a26e07',\n",
              " '484c1c1a-a69e-46c4-b36f-808ce17473d9',\n",
              " '89a22a6a-0862-441d-9078-525636859979',\n",
              " '2942e031-eca8-435c-ac85-67c38c85a77b',\n",
              " '04f44dce-4226-436b-8fa4-194c89869c35',\n",
              " 'c0bddbcc-59db-4aa3-a706-35c43ddb09db',\n",
              " 'da4e93b6-3ddc-4952-8cec-1158c95a06d3',\n",
              " 'b09b2b13-db83-48ef-b5e2-1ac47eeb11f0',\n",
              " 'f6a05269-fd51-4375-bcb6-8d1063b7b42b',\n",
              " '5fcf849a-5267-43e0-9a40-39852cfb1580',\n",
              " 'c1413802-8bc6-4973-9473-fce09d302229',\n",
              " '6fb2a929-62be-4ab3-9819-83ac7c0cee76',\n",
              " 'f45e6561-2334-4fe2-985e-d4e562cf0bd3',\n",
              " 'a46dc2ac-9020-425d-8c2b-753c1ebe9e7d',\n",
              " '4272ba79-0c37-4572-ae05-fe47e1e7fefc',\n",
              " 'd531cba0-24c8-4c2b-a472-3352f56f1464',\n",
              " '1221a887-fd97-4838-a4ee-5a3cb7cee0c3',\n",
              " '96728600-215a-420a-a47c-1ecf34e40157',\n",
              " '28895b07-18d0-4404-acff-aff88d1cabf4',\n",
              " '695b7052-1ccb-4cde-93b3-f46d23be2519',\n",
              " '8c9d69f9-19d2-4c4b-8fd4-e0d1ea171ebe',\n",
              " 'a3b03412-49f2-45e6-bd1b-2f1080ba484f',\n",
              " '65e9dd81-ce3c-4520-afa6-55c4fc0ea9b8',\n",
              " '41e818d4-605f-4001-b45f-9d3da91f7838',\n",
              " 'd7451bc0-1e54-477d-ac77-583c5bdb9c2f',\n",
              " '0fb9e077-fcd3-44fc-8cfd-cc05477b4984',\n",
              " 'd95f2738-974f-4f9b-8154-ca9882a04aed',\n",
              " 'c9fa687f-8ef0-4b73-b985-b47ca4f7b503',\n",
              " '6e78e612-f876-4d5e-aa20-e0974c6c8d60',\n",
              " 'e9a06052-12dd-42e0-b65e-bb446ef2aba8',\n",
              " '172ef6a2-e789-46c5-af11-1483fd29c7b2',\n",
              " '19e60dc2-6467-4b9a-b780-79425c925bef',\n",
              " '6f28872e-5435-48b3-aca7-c24b909f1b41',\n",
              " 'ed2db69b-11c2-4626-a566-5314f63198e8',\n",
              " '3a07ecec-2215-4f80-ad5e-dbb094fb7b9c',\n",
              " '69f60e2b-de9f-4083-8e82-36baa3c1af65',\n",
              " '8bb1791b-97fb-4cb9-ac58-afd92f309049',\n",
              " '822a1ee3-4bb8-464a-afbb-3cccfae3e5a7',\n",
              " '6db96f0b-307e-4bce-99be-e8919e046051',\n",
              " 'c5eb7dfa-4868-4bb2-9cf5-67203052d57c',\n",
              " '3b20f353-d37e-4844-aaa8-4aca48153032',\n",
              " '225ca4e1-ac36-49f2-a2f5-52e7dbcf78b1',\n",
              " 'f1a34484-7fe1-4bd4-aafd-15cf0e676eee',\n",
              " '2a494ad9-423a-4a0a-b817-77d9e75261ec',\n",
              " '60aca5b0-14e8-4278-a4a0-5cab7be562ce',\n",
              " '2cead99c-65fd-44d5-b47e-3592c02360c9',\n",
              " 'd610da15-7230-48ed-b29c-7b89dfe2c1f1',\n",
              " 'aff176f2-08d3-47f2-822a-58f2e0e12b73',\n",
              " '9e6370f5-cb1f-4164-a52e-552b98c06979',\n",
              " '0f78051e-3b81-4db6-8fb5-e181eaa94b36',\n",
              " 'c29a84a1-442a-4986-b996-4aa9bdfe04c9',\n",
              " 'ec168372-5db3-4fc6-bf4e-92ea55aa8d6c',\n",
              " '792592df-0253-43f7-9c3f-43f2881122e0',\n",
              " '19db61b6-662b-47de-a59f-c3abb2271871',\n",
              " '289879b2-8b88-4845-81c3-d47398fc6cfc',\n",
              " '761303a9-4d05-4333-ab71-f19821a7fdbb',\n",
              " 'd64e3d69-e77c-4a4c-a1bb-fb0e6b788f25',\n",
              " '23466953-9c60-49d0-9718-5f788529476d',\n",
              " 'f703839e-47b3-476a-9cf0-b839a9da72b7',\n",
              " 'a7960e51-38d0-4936-a48e-d9e659c04eec',\n",
              " 'da812204-1e0b-4abe-bc3f-0933f116d369',\n",
              " 'dcac8495-ba73-417c-8e22-4be60c937dae',\n",
              " 'c471d812-a1d3-4213-aad8-ecc239e6881d',\n",
              " '7bf7e927-9b53-4166-bd19-54a0c4921379',\n",
              " 'b44e9c1a-7e2e-4e99-9e54-316c0657b994',\n",
              " '00967ec8-097c-4c8f-9226-a7332a630b96',\n",
              " '33f946fa-3946-45a2-a418-6ab0787d1973',\n",
              " 'a3ea34e9-2595-4be6-9473-aea2f37e855f',\n",
              " 'ead36a35-47ce-4b7b-9e6b-02964e7ecd9f',\n",
              " 'e2ec1078-c586-4609-a94b-9daa37d0dc4f',\n",
              " 'ab4448c5-c0aa-4bc1-bfc5-1f324de515ca',\n",
              " '5469506d-5a62-41b7-b593-e0de10636f02',\n",
              " 'ee83dfaf-f027-4907-a9d0-96f07ee707bf',\n",
              " '23e15ce2-1c35-451a-aea6-9f90febb7d89',\n",
              " '5b81864a-f6a9-4720-8094-9935c6b2eb55',\n",
              " '57f1ba17-38f7-46ff-ac61-1fcbede5b732',\n",
              " '26a4aa30-294c-4d02-801d-50b8db80bf03',\n",
              " '7d0febd6-dcf6-428d-9a16-697ff912aea8',\n",
              " 'b5efbe73-4dfb-41bf-a396-f586097abe13',\n",
              " '2e6c420b-fc68-4dd0-98c9-125d07430a14',\n",
              " '9fd36a6c-819a-4572-8b8f-64a5c9bb1f57',\n",
              " 'bcd95280-b2ba-4d27-a3f6-c920fbade3e0',\n",
              " '10035654-7ab5-41f6-aa82-ca64a4f3280a',\n",
              " '699c2ea6-b647-4805-bb62-0a91b2ff4ffe',\n",
              " '68c4e9da-da36-4214-a8e0-737ba9bf58c6',\n",
              " '8c458abb-62af-47db-83db-8a0788d2922b',\n",
              " '3fc01ec3-e32a-4b38-8c47-6ff6683228b8',\n",
              " '7ed42103-668c-4537-ad0a-6f98d944fb41',\n",
              " '0c66625f-b41f-4070-82f6-2f7e4c59730b',\n",
              " '2af0dbbf-8b87-44b7-acfc-a6f841a61c52',\n",
              " '97e267e5-171c-4534-9dd1-b93241b733fb',\n",
              " 'e29ee5fd-c4ef-4e35-9616-e7e1615cffe8',\n",
              " 'b118bd64-1ac1-4283-b295-9365127cdb7a',\n",
              " 'c459d50f-df84-45ba-8233-e4e94d915225',\n",
              " 'b595cf2e-011b-49dd-a025-66e1932613ff',\n",
              " 'eeb698c9-2fe4-4c7e-bd3f-bbb6c44c1091',\n",
              " '8f4aba4d-e80b-40e7-af3c-45449e77f0a1',\n",
              " 'd892c20e-4620-49be-9485-4defd031d0c3',\n",
              " '0d2eca82-8402-4299-a5a8-d600a33b1075',\n",
              " '40810fa4-b744-4bf5-b4b7-2bff7f83f644',\n",
              " '11e0cc67-d538-4900-b0a5-9e99f80f5615',\n",
              " 'bd8475ec-d5a0-4c50-94d8-134f91d15c64',\n",
              " '6add6275-5fc0-45a5-8ef5-da6580caefde',\n",
              " '23768c1c-75d0-4fb9-95cb-8d8b621ad7b4',\n",
              " 'c1f896f6-6ab7-4472-b023-f523931a84cd',\n",
              " '92c809e7-e9b8-42cb-9bf2-8058a9afd832',\n",
              " '7addb235-5c84-4891-980e-378981d7ddeb',\n",
              " 'f941542d-30cc-4e19-8472-e224402cd86a',\n",
              " '3e4ffebe-97c4-46a5-ac9f-b7e00fa7f016',\n",
              " '12e15bd1-9afb-4a25-9660-541b42026ce3',\n",
              " '9c11d37b-ff4c-4757-83c7-ba9b881312ae',\n",
              " '1fc8fb92-92e6-47f9-8631-e782dceb32e9',\n",
              " 'c939c823-f861-4c5e-be9d-a0b08d2c6bbe',\n",
              " '43eaeea0-2c10-4223-b7f9-9a9d1006d025',\n",
              " 'a79beeda-77fe-4e7b-9765-f2a4582cdf6d',\n",
              " 'dc3f0361-a165-4d99-b63c-1e1a29211f46',\n",
              " '618c4da4-ee6d-4a8f-ad7e-4a3fc5801eb4',\n",
              " 'a52d1b41-3828-4df4-ae86-47e2ba49847b',\n",
              " '4e966483-b029-4701-ac02-8ede21f5d98c',\n",
              " 'c54df64f-7d1c-4c1d-8fd0-ec806387125d',\n",
              " '69528b61-81d8-4f6f-83ae-63c24e7fe064',\n",
              " 'a5ca8df3-a487-470d-a214-fddb799a9bad',\n",
              " 'd0b5c07f-7d2f-4391-930b-56c260e255ad',\n",
              " 'e854af28-30e6-43b9-bc6d-907fc21f38d7',\n",
              " 'e499df40-3b65-49a7-a0c0-0f9b516be59d',\n",
              " '434edd64-3c04-4352-bb22-7a71fc091f38',\n",
              " 'a0664d92-3307-4c2a-a7aa-531d6f40486b',\n",
              " 'ba49027c-36a9-40a7-8e51-c40a5cbe117a',\n",
              " '368945ce-1dae-490a-bebe-2e437713dc50',\n",
              " 'e848b9f8-814c-4e36-8019-ed4307a41aa7',\n",
              " '53a5a647-ef55-4227-a2ea-cddd6546ae5f',\n",
              " '0afcb115-c80a-4544-a535-575387548f5e',\n",
              " 'cefd9460-b2e4-4771-85b3-2431ebe7ccc3',\n",
              " '97df96c0-2b10-48d2-99f2-7713f8742524',\n",
              " 'fc13eb82-6b42-440c-9333-a11f61cd3195',\n",
              " '62a012eb-5d75-46f1-b247-8ce319749d88',\n",
              " '2da324b0-55ae-49e6-87b6-78e6a4b75227',\n",
              " 'f0870b82-e95d-4d4a-9445-b2a20b2a09ab',\n",
              " '709cb393-ef2c-4e25-8881-e5e5f068bedd',\n",
              " 'f44095a7-d972-49bd-9a6e-f8c42e3feb6f',\n",
              " 'f3e933ce-713c-4b26-94f8-9245a605406c',\n",
              " '6f21a671-f8f3-4665-89b9-8332ea09ac3f',\n",
              " '7a1cb814-a453-4fb5-b148-0621ee6a629a',\n",
              " '2b965cd9-3514-44ce-840c-83dce8180f56',\n",
              " '576e37f5-eb43-49b0-ac6d-e0e90d2e1915',\n",
              " '501cc0aa-132f-4cb5-b8f8-5b6733f872f5',\n",
              " '80ae01cc-da78-4f62-ac70-73e1a848c222',\n",
              " '4721db1d-8ca8-4eee-a841-f42731b50d1a',\n",
              " '9c736c8a-b9c7-4199-9051-3e60219156c2',\n",
              " 'c721ab39-1465-463d-8e19-e658abc5a34e',\n",
              " 'd81e168b-c195-448f-a789-ff1ae42f4a04',\n",
              " '5cdb4072-a0f9-4ed0-b2e7-d72be71fb5c1',\n",
              " 'b9e167db-fc78-4241-8f28-cf066c0c839a',\n",
              " 'd7ae5b42-e183-4d2c-ac46-5c801b46833a',\n",
              " 'ff38498a-3aa0-4c50-9222-81f58db63ca6',\n",
              " '98f88a31-a538-40a9-b3f6-7e862316e9d0',\n",
              " '8740bf87-a9cd-4550-9a03-0a9bff751468',\n",
              " '16047195-36cc-4d54-b9ba-569d92bd3393',\n",
              " '02323981-2ab1-4d34-8c28-b3dc74ea93a4',\n",
              " 'c4c91c0f-1188-4b21-b725-059e15f96eb7',\n",
              " 'b557004c-ed33-4201-a79b-1b9b44c769b5',\n",
              " '5663493e-466d-42dd-a101-363013b6cfac',\n",
              " '27918c77-40d0-4c3a-93dc-4123cf0b3ab7',\n",
              " '2a242caa-b44b-4572-85d8-2882533f5a09',\n",
              " '38f0cb48-e39d-4ed6-bdeb-9d8649a3c615',\n",
              " '22fb78b6-d014-4c1f-b87a-b19b8d110529',\n",
              " '240476ae-20d9-4947-b5bb-8aca282010f1',\n",
              " '352668d4-ddc5-49f2-ae21-659528c4c7fb',\n",
              " '8e344409-8d7f-492e-9543-1d78332a5dd0',\n",
              " '99165a69-3691-4380-bfa5-111cfa08d2e2',\n",
              " '570d1050-3ff4-4473-9d61-8ce2f49e7adb',\n",
              " '73896680-d7eb-43cf-bbf4-8eb3ece58d0b',\n",
              " '02150e39-f9a1-495e-895f-a5ae1ec2f0e8',\n",
              " 'b74655df-b9d9-4440-8d09-3ee3d655c5a1',\n",
              " '1ee637ff-2c76-438b-8e10-0aa3fc8d6693',\n",
              " 'e9021d6f-8712-4017-ad60-3b2d8f1378c1',\n",
              " '5848e601-ac75-4494-a462-88da61eff0ec',\n",
              " 'a64fb0a6-96fd-4b80-ab39-556d0e292e92',\n",
              " '610ad3db-41cd-4014-b933-47b20632c0ca',\n",
              " 'a3686e15-784f-43e9-85f8-26457e4e95cd',\n",
              " '5405e5a2-120a-41bc-bb3c-2f405b5f61e7',\n",
              " 'ee24259f-4684-4677-bc4e-0cabb69c8410',\n",
              " 'af0a3df9-e97d-440a-a008-380af71bb4af',\n",
              " 'bb7c04c5-9a7f-4555-9004-a25a69b62f9b',\n",
              " 'ddf84514-e4f1-48de-9bd9-a3f773037ac8',\n",
              " '8ff12478-57e5-4da5-84ae-f3d9ca6049b1',\n",
              " '7b45fc5f-6cc5-4751-85fe-a8dce1057707',\n",
              " 'd895ed48-db0e-4505-b3ba-7880ed8da0da',\n",
              " '4107ee69-cc23-4f84-8b18-90579d0f724c',\n",
              " 'acd1ac17-7b9d-426a-a7ec-dfe0954574f4',\n",
              " '172bf5bf-33a3-4d6a-b761-779f9639843f',\n",
              " 'aa1dc1e7-46ff-44fd-b6bf-3667250aed31',\n",
              " '69666cee-d004-4065-9531-3c7e97e102e0',\n",
              " '5e72e154-57d1-4018-bf68-69bd8aabdd31',\n",
              " '18d2a1c1-dcd6-4407-8100-5458e2f9d091',\n",
              " '3c513826-696a-4232-baed-1664fe25f048',\n",
              " 'f6467749-f590-4de0-bf29-4a48897b5425',\n",
              " 'ebe66810-3b6d-4ed2-80a9-cc5419496bbc',\n",
              " '93f46d2d-24ad-4cfd-951b-298eb427935b',\n",
              " '435bbf13-15b3-481c-8ba5-5084365aa139',\n",
              " '84e34f01-39ca-41ae-800f-1a1bc47939a9',\n",
              " '36adea60-0bd2-492e-b2c9-175491702100',\n",
              " 'acb9055c-6205-4602-b5b0-34b0f2f06d38',\n",
              " 'cdd59f96-fffc-4464-9a60-9b6b079e6fef',\n",
              " 'f71a8db1-1533-4fff-bfbc-c62ccf0e7389',\n",
              " '27f1c67d-845c-4676-b439-7f35ca240c27',\n",
              " '92a067d2-cb2b-4690-bb0e-e9000e04ad3e',\n",
              " '2a6e278a-e2df-48fa-bd8d-e2b75da913e4',\n",
              " '44703d89-6d5f-430d-9b24-e58f9c37ecae',\n",
              " 'bb6bf767-adb6-4b25-8e79-6fc75382d8e1',\n",
              " '0b90df54-d3aa-4b5b-a2da-1018e6a3c08e',\n",
              " '3c97ea69-597a-4bde-9ba4-ec1a52fc8a7f',\n",
              " 'ea1c24d8-5099-4ced-88ef-4ddd798ebd5f',\n",
              " '265d5299-decd-49b3-9064-32785114bdc4',\n",
              " 'fbc321bd-34f6-4b14-be70-1a401e0bb216',\n",
              " 'f92fc9b2-0b53-407f-ac8a-d3b8312efdf6',\n",
              " '9e39300c-5a73-4c7b-bff3-4f2aa6f5945d',\n",
              " '246921e8-bf82-4e05-b7d9-ef83f373a15f',\n",
              " '4fb091ef-b154-4323-91ad-0c4cf7049995',\n",
              " 'e4978ffd-cfdd-4198-8ab4-f38e2a4b2a71',\n",
              " 'a87072c0-e764-4464-8a45-1d5a2527bb6d',\n",
              " 'e000ab34-4597-4c70-bce9-65bbde9f2146',\n",
              " '18216616-c53e-49cd-b457-6507f0db0992',\n",
              " '80d8184d-71c6-4844-a913-20653a4497de',\n",
              " '647b4db6-c5df-4799-8dc9-f2c271c8d7bc',\n",
              " '665b910b-3043-49ec-a3fc-9d25bf116cbd',\n",
              " '454f37b5-4995-4ee9-8b08-38eed0d9d2fc',\n",
              " '079d2248-a04d-4085-af9c-0867d18223b8',\n",
              " 'c171d7df-02da-4ef0-8082-1bfdcd189858',\n",
              " 'a9d1b3b0-da74-4a53-9c72-50e2955f4870',\n",
              " 'fee08f29-4970-4940-bec2-708b7bccf4a3',\n",
              " '26f4a94d-f04a-4548-b6f5-4b0fc04ee80c',\n",
              " '3faca95b-6709-4c19-b6b6-118742d3c2e5',\n",
              " 'cd5a262a-6094-47b3-8f04-ed29435a2011',\n",
              " '7a485841-4a63-4fa1-8bd3-fd1d113fb0dd',\n",
              " '707d45ed-d617-4722-ba3b-0979ccd7ecec',\n",
              " 'e544f4e9-6597-4d43-a629-f14c1c5f73f1',\n",
              " '516a088d-203c-454b-8947-9c8d44ccfe22',\n",
              " '78a44f64-4c06-40cf-b5f4-17e9e1bcff09',\n",
              " 'e3f408b6-1490-493a-a364-acfdb49bc8e1',\n",
              " 'ec7ce515-4cfd-4e34-a576-57b97a4b4960',\n",
              " '747f0e70-acee-4c8e-83fc-a98ae4a1387c',\n",
              " 'ac589c59-05b6-4fe9-9e83-54f59ff2707a',\n",
              " '09ef1f52-1453-4d67-a444-a805dcdf22ef',\n",
              " '6d2d8795-579a-4cdb-b813-ed43f99978de',\n",
              " '1f57e62f-5414-4aa5-a26d-33412cc51b73',\n",
              " '08097be9-5313-4a6d-ba49-79728a0cd928',\n",
              " 'af96aa33-f53f-4d61-9ecb-49cf0b6c576a',\n",
              " '472d1c1d-b90f-4283-a212-24692659e14b',\n",
              " '51bbbdd8-b7a3-4b7a-a080-1a40444ab792',\n",
              " '93079a86-e42b-4730-9481-1c5317af5be9',\n",
              " '4c0f96fd-cf16-4bd1-a8f1-665f8e1032b6',\n",
              " '5f22f267-ae0a-4eae-8490-8aa0f681520b',\n",
              " '7197f10b-93d6-4855-8269-22bb8d60ced3',\n",
              " 'f110e040-f94d-4436-adfa-c5678357142f',\n",
              " 'c686e726-b31c-4940-a95a-7e0ffbd6a850',\n",
              " 'b5887e6c-60c7-4e01-a790-5baccbb863dd',\n",
              " '4c3d5f40-5bb2-4442-92b0-faf6457809ac',\n",
              " 'ad22a2ef-3f65-4347-81ab-c2938efe6d42',\n",
              " 'e79edc67-a6b9-4b87-8b11-9a5c0107461f',\n",
              " '3ac33b33-e226-4982-b9eb-df6e3c8fc0d8',\n",
              " '9f327997-66e4-486f-b0be-cb9e9d1ab065',\n",
              " '1b46fa43-cda4-4e02-ac95-e9e9743ce919',\n",
              " '3c75292a-046b-4467-a5b9-83f38f25c33c',\n",
              " 'e8277e78-e62e-4eb5-9221-332671493afd',\n",
              " '50353c49-553f-4451-9374-8679a7406858',\n",
              " 'a9656a36-3ccb-4adf-8725-84306ac2fbc2',\n",
              " 'c55ff7ce-43e6-4234-b3e5-1d884ecc5bd7',\n",
              " '425ffaeb-7917-4249-be33-3e763c1700e6',\n",
              " '59503685-2987-4870-a8fe-09c39acc4142']"
            ]
          },
          "metadata": {},
          "execution_count": 20
        }
      ]
    },
    {
      "cell_type": "markdown",
      "source": [
        "**This code converts the `vector_store_1` into a retriever object using the `as_retriever` method. The `search_type=\"similarity\"` specifies that the retriever will search for the most similar vectors to a given query. The `search_kwargs` parameter is used to set additional search settings, with `k=3` indicating that the top 3 most similar results should be returned. The resulting `result_search_from_rag` object is now ready to perform similarity-based searches on the stored documents. This setup enables efficient retrieval of relevant information based on vector similarity.**"
      ],
      "metadata": {
        "id": "ekt2dDccx19C"
      }
    },
    {
      "cell_type": "code",
      "source": [
        "result_search_from_rag = vector_store_1.as_retriever(\n",
        "    search_type = \"similarity\",\n",
        "    search_kwargs = {\"k\" : 3}\n",
        ")"
      ],
      "metadata": {
        "id": "NWuMDZninol8"
      },
      "execution_count": null,
      "outputs": []
    },
    {
      "cell_type": "markdown",
      "source": [
        "- **Function Purpose**: The `answer_to_question_with_rag_implementation` function answers a user query using the Retrieval-Augmented Generation (RAG) approach, which combines search results from a vector store with the language model's capabilities.\n",
        "  \n",
        "- **Input**: The function takes a `query` string as input, which represents the user's question.\n",
        "\n",
        "- **Search Step**:\n",
        "  - It invokes `result_search_from_rag.invoke(query)` to perform a similarity search and retrieve the top search result related to the query.\n",
        "  - If no result is found, it defaults to an empty string (`\" \"`).\n",
        "\n",
        "- **Result Retrieval**: The retrieved result (or empty string) is stored in the variable `result`.\n",
        "\n",
        "- **LLM Instruction**:\n",
        "  - It uses the `llm.invoke()` function to pass the query along with the retrieved result to a pre-trained language model for processing.\n",
        "  - The model is instructed with a detailed prompt on how to process the request and generate the answer.\n",
        "\n",
        "- **Prompt Breakdown**: The prompt given to the model includes:\n",
        "  - **Step 1**: Examine the retrieved search result for the query carefully.\n",
        "  - **Step 2**: Use the search result to craft a detailed and accurate response to the user's query.\n",
        "  - **Step 3**: Add relevant thoughts, context, or additional information that could enhance the answer. If any uncertainties exist in the result, the model is asked to fill in the gaps.\n",
        "  - **Step 4**: Ensure that the tone of the response is friendly, helpful, and professional.\n",
        "  - **Step 5**: Make sure the answer is well-structured, easy to understand, and addresses the query comprehensively.\n",
        "\n",
        "- **Output**: The function returns the `llm_response`, which contains the generated answer to the user's query.\n",
        "\n",
        "- **Result**: The combination of search results and model-generated insights ensures that the response is both informed and contextual, providing a richer and more complete answer than simply returning search results."
      ],
      "metadata": {
        "id": "NRcuomt-yDXE"
      }
    },
    {
      "cell_type": "code",
      "source": [
        "def answer_to_question_with_rag_implementation(query:str):\n",
        "  result = result_search_from_rag.invoke(query) or \" \"\n",
        "  llm_response = llm.invoke(f\"\"\"\n",
        "You are a highly knowledgeable assistant with access to information from a database. Your task is to answer user queries using the search results retrieved from the database, while also providing additional insights based on your own understanding.\n",
        "\n",
        "Here is how you should process the request:\n",
        "1. First, carefully examine the search result retrieved from the database for the query: '{result}'.\n",
        "2. Using the result, craft a detailed response to the query '{query}', ensuring that you provide a thorough explanation based on the information you have.\n",
        "3. Additionally, include any relevant thoughts, context, or advice that might help in fully addressing the query. If there are any ambiguities or uncertainties in the result, feel free to elaborate or share your own understanding to fill in the gaps.\n",
        "4. Ensure that the tone of your response is friendly, helpful, and professional, as you are acting as an assistant providing valuable information.\n",
        "5. Lastly, make sure your response is well-structured, easy to understand, and provides a complete answer to the query.\n",
        "\"\"\")\n",
        "\n",
        "  return llm_response"
      ],
      "metadata": {
        "id": "jK6x30hiomXt"
      },
      "execution_count": null,
      "outputs": []
    },
    {
      "cell_type": "markdown",
      "source": [
        "# Below is the Testing of the code , you can see by yourself"
      ],
      "metadata": {
        "id": "gWMbAN7dyIuU"
      }
    },
    {
      "cell_type": "code",
      "source": [
        "query_result = answer_to_question_with_rag_implementation(\"What is the Genre Of Horror Movies\")\n",
        "display(Markdown(query_result.content))"
      ],
      "metadata": {
        "colab": {
          "base_uri": "https://localhost:8080/",
          "height": 494
        },
        "id": "YsQs7l3Rpgto",
        "outputId": "0d6946ff-15af-4878-8306-2f5c80dae09d"
      },
      "execution_count": null,
      "outputs": [
        {
          "output_type": "display_data",
          "data": {
            "text/plain": [
              "<IPython.core.display.Markdown object>"
            ],
            "text/markdown": "Okay, I've reviewed the search results you provided. It seems you're asking about the genre of horror movies, specifically based on the data I have.\n\nHere's what I can tell you:\n\nBased on the provided documents, the genre is explicitly stated as **Horror**. Each of the three documents lists \"Genre: Horror\" followed by a plot description. This indicates that the data source is focused on generating or describing plots specifically for horror movies.\n\n**Additional Insights and Context:**\n\nWhile the documents themselves don't provide a definition of what constitutes a horror movie, we can infer some things based on common understanding:\n\n*   **Purpose:** Horror movies are designed to elicit feelings of fear, dread, shock, and suspense in the audience.\n*   **Common Elements:** They often involve elements such as:\n    *   **Monsters/Antagonists:** These can be supernatural (ghosts, demons), natural (animals, diseases), or human (serial killers, psychopaths).\n    *   **Threats to Safety:** Characters are typically placed in dangerous situations where their physical or psychological well-being is at risk.\n    *   **Suspense and Tension:** The build-up of fear is often as important as the scares themselves.\n    *   **Gore and Violence:** While not always present, many horror films utilize graphic imagery to enhance the feeling of dread.\n    *   **Psychological Horror:** Some horror films focus on the mental state of characters, exploring themes of paranoia, madness, and trauma.\n*   **Subgenres:** The horror genre is very broad and includes many subgenres, such as:\n    *   **Slasher:** Focuses on a killer stalking and murdering victims.\n    *   **Supernatural Horror:** Involves ghosts, demons, and other paranormal entities.\n    *   **Psychological Horror:** Focuses on the mental and emotional states of characters.\n    *   **Monster Movies:** Features creatures or monsters as the primary threat.\n    *   **Found Footage:** Presents the story as if it were discovered recordings.\n\n**In Summary:**\n\nThe search results confirm that the genre being discussed is **Horror**. While the provided data focuses on plot generation, it's important to remember that the horror genre is diverse and encompasses a wide range of themes, styles, and subgenres, all aiming to create a sense of fear and unease in the viewer.\n\nI hope this explanation is helpful! If you have any more questions about horror movies or other genres, feel free to ask.\n"
          },
          "metadata": {}
        }
      ]
    },
    {
      "cell_type": "code",
      "source": [
        "query_result_1 = answer_to_question_with_rag_implementation(\"What is Sci-fi\")\n",
        "display(Markdown(query_result_1.content))"
      ],
      "metadata": {
        "colab": {
          "base_uri": "https://localhost:8080/",
          "height": 773
        },
        "id": "7Z4g3GscptvL",
        "outputId": "64a1f342-677a-4643-b1ce-9ded58157335"
      },
      "execution_count": null,
      "outputs": [
        {
          "output_type": "display_data",
          "data": {
            "text/plain": [
              "<IPython.core.display.Markdown object>"
            ],
            "text/markdown": "Okay, I've examined the search results you provided. It seems you're asking \"What is Sci-fi?\", and the database returned three entries, all related to Sci-Fi movie plots. Here's a breakdown and explanation:\n\n**Based on the Search Results:**\n\nThe search results all contain the following structure:\n\n*   **Genre: Sci-Fi**\n*   **Plot: Plot for a Sci-Fi movie involving unique twists.**\n\nFrom this, we can directly infer that \"Sci-Fi\" is a **genre**, specifically a genre of movies. The plots associated with it are described as involving \"unique twists,\" suggesting that this genre often incorporates elements of surprise, innovation, or unexpected developments.\n\n**Expanding on the Definition of Sci-Fi:**\n\nWhile the database entries are quite basic, I can provide a more comprehensive explanation of what Sci-Fi (or Science Fiction) is:\n\n*   **Core Elements:** Science fiction is a genre of speculative fiction that typically deals with imaginative and futuristic concepts such as:\n    *   **Advanced Technology:** This often includes things like spaceships, robots, artificial intelligence, advanced weaponry, and other technological marvels that go beyond our current capabilities.\n    *   **Space Exploration:** Many sci-fi stories revolve around journeys to other planets, galaxies, or dimensions.\n    *   **Time Travel:** The ability to move through time is a common theme, exploring paradoxes and alternate realities.\n    *   **Dystopian/Utopian Societies:** Sci-fi often explores the potential consequences of societal structures, often depicting either ideal or deeply flawed future worlds.\n    *   **Extraterrestrial Life:** Encounters with alien species are a staple of the genre.\n    *   **Scientific and Social Change:** Sci-fi frequently examines the impact of scientific advancements on society and individuals.\n\n*   **Themes and Exploration:** Beyond the technological aspects, Sci-Fi often delves into deeper philosophical and social themes, such as:\n    *   **Humanity's Place in the Universe:** What does it mean to be human in a vast and potentially hostile cosmos?\n    *   **The Ethics of Technology:** What are the moral implications of advanced scientific capabilities?\n    *   **The Nature of Consciousness:** What does it mean to be aware, and can artificial intelligence achieve it?\n    *   **Social Commentary:** Sci-fi can be used to critique contemporary society by projecting current trends into the future.\n\n*   **Beyond Movies:** While the database entries focus on movie plots, Sci-Fi is a genre that extends far beyond cinema. It encompasses:\n    *   **Literature:** Novels, short stories, and graphic novels.\n    *   **Television:** Series and mini-series.\n    *   **Video Games:** Interactive narratives and world-building.\n    *   **Art and Music:** Sci-fi themes and aesthetics are often explored in various artistic mediums.\n\n**In Summary:**\n\nSci-Fi, or Science Fiction, is a genre that uses imaginative and often futuristic concepts, grounded in scientific or technological possibilities, to explore a wide range of themes and ideas. It's not just about spaceships and robots; it's about exploring the human condition and our potential future in a universe shaped by science and technology. The \"unique twists\" mentioned in the database entries are a hallmark of the genre, as it often seeks to surprise and challenge our expectations.\n\n**Additional Thoughts and Context:**\n\nThe database entries are very basic, suggesting that they are likely part of a larger dataset used for generating or categorizing movie plots. The repeated phrase \"unique twists\" highlights a common characteristic of successful sci-fi stories – the ability to offer something unexpected and thought-provoking.\n\nI hope this explanation is helpful! If you have any more questions about Sci-Fi or any other topic, please feel free to ask.\n"
          },
          "metadata": {}
        }
      ]
    },
    {
      "cell_type": "code",
      "source": [
        "query_result_2 = answer_to_question_with_rag_implementation(\"What is Drama\")\n",
        "display(Markdown(query_result_2.content))"
      ],
      "metadata": {
        "colab": {
          "base_uri": "https://localhost:8080/",
          "height": 645
        },
        "id": "0KoHEKtRqFLs",
        "outputId": "24824ac0-383b-4b9e-a5aa-ce9186b2ac8d"
      },
      "execution_count": null,
      "outputs": [
        {
          "output_type": "display_data",
          "data": {
            "text/plain": [
              "<IPython.core.display.Markdown object>"
            ],
            "text/markdown": "Okay, I've examined the search results you provided. It seems you're asking about the genre \"Drama\" based on the information in the database.\n\nHere's what I can tell you:\n\nThe search results all indicate the following:\n\n*   **Genre: Drama**\n*   **Plot: Plot for a Drama movie involving unique twists.**\n\nBased on this, we can say that \"Drama\" is a movie genre. The provided data also suggests that plots within the Drama genre often involve \"unique twists.\"\n\n**Here's a more comprehensive explanation of the Drama genre, drawing on my general knowledge:**\n\nThe Drama genre is one of the most fundamental and versatile in film. It typically focuses on realistic characters and their emotional journeys, often exploring complex themes and relationships. Here's a breakdown of what makes a movie a \"Drama\":\n\n*   **Character-Driven:** Dramas are usually centered around the development and experiences of their characters. We often see characters facing internal conflicts, external challenges, and significant life events.\n*   **Emotional Depth:** These films aim to evoke strong emotions in the audience, such as sadness, joy, anger, or empathy. They delve into the human condition and explore the complexities of life.\n*   **Realistic Settings and Situations:** While not always the case, many dramas strive for realism in their settings, dialogue, and situations. This helps the audience connect with the characters and their struggles.\n*   **Exploration of Themes:** Dramas often tackle important social, political, or personal themes, such as love, loss, family, identity, justice, and morality.\n*   **Variety of Subgenres:** The Drama genre is incredibly broad and encompasses many subgenres, including:\n    *   **Family Dramas:** Focus on the dynamics and relationships within a family.\n    *   **Legal Dramas:** Center around courtrooms, lawyers, and legal cases.\n    *   **Historical Dramas:** Set in the past and often based on real events.\n    *   **Romantic Dramas:** Explore love and relationships, often with a focus on emotional conflict.\n    *   **Social Dramas:** Deal with social issues and injustices.\n\n**Regarding the \"unique twists\" mentioned in the database:**\n\nThe fact that the plots are described as having \"unique twists\" suggests that even within the Drama genre, there's room for unexpected turns and surprises. This could mean that the stories aren't always straightforward and might incorporate elements of suspense or mystery to keep the audience engaged. It's a way to add a layer of complexity to the emotional core of the drama.\n\n**In Summary:**\n\nDrama is a genre that focuses on character development, emotional depth, and realistic situations, often exploring complex themes. It is a very broad genre with many subgenres. The search results indicate that plots within the Drama genre can also include \"unique twists,\" which can make them more engaging and unpredictable.\n\nI hope this explanation is helpful! If you have any further questions about the Drama genre or any other topic, please feel free to ask.\n"
          },
          "metadata": {}
        }
      ]
    }
  ]
}